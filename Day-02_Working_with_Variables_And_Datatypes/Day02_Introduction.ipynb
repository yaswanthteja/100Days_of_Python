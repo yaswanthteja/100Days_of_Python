{
 "cells": [
  {
   "cell_type": "code",
   "execution_count": null,
   "metadata": {},
   "outputs": [],
   "source": []
  },
  {
   "attachments": {},
   "cell_type": "markdown",
   "metadata": {},
   "source": [
    "# Writing the first python program \n",
    "\n",
    "```print(\"Hello World\")```\n",
    "\n",
    "- Here print() is the python function which helps to print data . \n",
    "- And the text with in the single quotations or Double quotations  are strings ex: \"Helloworld\" \n",
    "- What ever text we write within quotes or quotations  and by using print function we can print the text with out the quotations. Ex: print(\"First program\") output: First program\n",
    "\n",
    "### how to print the data in the console  or in terminal\n",
    "\n",
    "Here we use print() function to print the data."
   ]
  },
  {
   "cell_type": "code",
   "execution_count": 1,
   "metadata": {},
   "outputs": [
    {
     "name": "stdout",
     "output_type": "stream",
     "text": [
      "Hello World\n"
     ]
    }
   ],
   "source": [
    "# Print() is a function in python\n",
    "print(\"Hello World\")"
   ]
  },
  {
   "cell_type": "code",
   "execution_count": 2,
   "metadata": {},
   "outputs": [
    {
     "name": "stdout",
     "output_type": "stream",
     "text": [
      "First Program\n"
     ]
    }
   ],
   "source": [
    "print(\"First Program\")"
   ]
  },
  {
   "attachments": {},
   "cell_type": "markdown",
   "metadata": {},
   "source": [
    "# Variables\n",
    "\n",
    "- Variables are used to store the data in the memory.\n",
    "- Variables uses identifier rules.\n",
    "\n",
    "### Identifier rules\n",
    "- Identifiers are used to store the data in the memory.\n",
    "- Identifiers are used to identify the variables,functions,classes,modules,etc.\n",
    "- Identifiers are case sensitive.\n",
    "- Identifiers should not start with numbers.\n",
    "- Identifiers should not contain special characters except underscore(_).\n",
    "\n",
    "Examples\n",
    "```\n",
    "a=10    # here a is the variable name which holds the value 10 which is a integer value\n",
    "b=\"Hello\" # here b is a variable name which holds  Hello which is a string.\n",
    "\n",
    "print(a)  # it prints the value which is stored in a\n",
    "print('a') # Here it prints the a because we write inside a quote so it becomes a string,instead of printing the value it just print a\n",
    "```\n",
    "- To know the data type we use type() function and the name of variable.\n",
    "\n",
    "`Note1: `\n",
    "- In python we don't need to specify the data type of the variable.\n",
    "- Python is a dynamically typed language.\n",
    "\n",
    "\n",
    "\n"
   ]
  },
  {
   "cell_type": "code",
   "execution_count": 5,
   "metadata": {},
   "outputs": [
    {
     "name": "stdout",
     "output_type": "stream",
     "text": [
      "<class 'int'>\n",
      "<class 'str'>\n"
     ]
    }
   ],
   "source": [
    "a=10\n",
    "b=\"Hello\"\n",
    "print(type(a))\n",
    "print(type(b))"
   ]
  },
  {
   "cell_type": "code",
   "execution_count": 7,
   "metadata": {},
   "outputs": [
    {
     "name": "stdout",
     "output_type": "stream",
     "text": [
      "10\n",
      "a\n",
      "Hello\n"
     ]
    }
   ],
   "source": [
    "a=10\n",
    "b=\"Hello\"\n",
    "print(a) # it prints the value which is stored in a.\n",
    "print('a')  # Here it prints the a because we write inside a quote so it becomes a string,instead of printing the value it just print a.\n",
    "print(b) # it prints the value stored in b"
   ]
  },
  {
   "cell_type": "code",
   "execution_count": 8,
   "metadata": {},
   "outputs": [
    {
     "ename": "NameError",
     "evalue": "name 'A' is not defined",
     "output_type": "error",
     "traceback": [
      "\u001b[1;31m---------------------------------------------------------------------------\u001b[0m",
      "\u001b[1;31mNameError\u001b[0m                                 Traceback (most recent call last)",
      "Cell \u001b[1;32mIn[8], line 4\u001b[0m\n\u001b[0;32m      1\u001b[0m \u001b[39m# Variables are case sensitive\u001b[39;00m\n\u001b[0;32m      3\u001b[0m a\u001b[39m=\u001b[39m\u001b[39m10\u001b[39m\n\u001b[1;32m----> 4\u001b[0m \u001b[39mprint\u001b[39m(A)\n",
      "\u001b[1;31mNameError\u001b[0m: name 'A' is not defined"
     ]
    }
   ],
   "source": [
    "# Variables are case sensitive\n",
    "\n",
    "a=10\n",
    "print(A)"
   ]
  },
  {
   "cell_type": "code",
   "execution_count": 10,
   "metadata": {},
   "outputs": [
    {
     "ename": "SyntaxError",
     "evalue": "invalid decimal literal (2996601180.py, line 2)",
     "output_type": "error",
     "traceback": [
      "\u001b[1;36m  Cell \u001b[1;32mIn[10], line 2\u001b[1;36m\u001b[0m\n\u001b[1;33m    1A=10\u001b[0m\n\u001b[1;37m    ^\u001b[0m\n\u001b[1;31mSyntaxError\u001b[0m\u001b[1;31m:\u001b[0m invalid decimal literal\n"
     ]
    }
   ],
   "source": [
    "# variables should not start with numbers.\n",
    "1A=10\n",
    "print(1A)"
   ]
  },
  {
   "cell_type": "code",
   "execution_count": 11,
   "metadata": {},
   "outputs": [
    {
     "ename": "SyntaxError",
     "evalue": "invalid syntax (1058906086.py, line 3)",
     "output_type": "error",
     "traceback": [
      "\u001b[1;36m  Cell \u001b[1;32mIn[11], line 3\u001b[1;36m\u001b[0m\n\u001b[1;33m    $a=10\u001b[0m\n\u001b[1;37m    ^\u001b[0m\n\u001b[1;31mSyntaxError\u001b[0m\u001b[1;31m:\u001b[0m invalid syntax\n"
     ]
    }
   ],
   "source": [
    "# Variables should not contain special characters except underscore(_).\n",
    "\n",
    "$a=10\n",
    "Print($a)"
   ]
  },
  {
   "cell_type": "code",
   "execution_count": null,
   "metadata": {},
   "outputs": [],
   "source": []
  },
  {
   "attachments": {},
   "cell_type": "markdown",
   "metadata": {},
   "source": [
    "## input()\n",
    "\n",
    "- input() function is used to take the input from the user.\n",
    "- input() function always takes the input as a string.\n",
    "\n",
    "when ever we use input() in the program it will ask the user for input, and the programmer need to enter the data \n",
    "\n",
    " a=input(\"Enter your name\")\n",
    " print(a)\n",
    "\n",
    "- Here a is the variable which stores  the value taken from the user.\n",
    "\n",
    "How we can take the value from user?\n",
    "- by using the input() we take the value from user\n",
    "\n",
    "### input() function always takes input as a string. so we need to convert that string type to requried type this is called as type casting\n",
    "\n",
    "\n",
    "```\n",
    " a=input(\"Enter your name\")\n",
    " print(a)\n",
    "\n",
    " # # input() function always takes the input as a string.\n",
    " \n",
    " a=input(\"Enter your name\")\n",
    " print(a)\n",
    " print(type(a))\n",
    "\n",
    " # To convert the string into integer we use int() function.\n",
    " # \n",
    " a=int(input(\"Enter your age\"))\n",
    " print(a) \n",
    " print(type(a))\n",
    " \n",
    " b=int(a) print(b)\n",
    " print(type(b))\n",
    "\n",
    " # # To convert the string into float we use float() function.\n",
    " \n",
    " a=input(\"Enter your age\")\n",
    " print(a)\n",
    " print(type(a))\n",
    " \n",
    " b=float(a)\n",
    " print(b)\n",
    " print(type(b))\n",
    "```\n",
    "\n",
    " "
   ]
  },
  {
   "cell_type": "code",
   "execution_count": 12,
   "metadata": {},
   "outputs": [
    {
     "name": "stdout",
     "output_type": "stream",
     "text": [
      "Yaswanth Teja\n"
     ]
    }
   ],
   "source": [
    "a=input(\"Enter your name\")\n",
    "print(a)"
   ]
  },
  {
   "cell_type": "code",
   "execution_count": 13,
   "metadata": {},
   "outputs": [
    {
     "name": "stdout",
     "output_type": "stream",
     "text": [
      "10\n",
      "<class 'int'>\n"
     ]
    }
   ],
   "source": [
    "\n",
    " # To convert the string into integer we use int() function.\n",
    " a=int(input(\"Enter your age\"))\n",
    " print(a) \n",
    " print(type(a))"
   ]
  },
  {
   "attachments": {},
   "cell_type": "markdown",
   "metadata": {},
   "source": [
    "## Assignment\n",
    "\n",
    "create a python program that need to take following data from the user store it and print the data \n",
    "- name of the user\n",
    "- city name\n",
    "\n",
    "Hint: use variables and input()"
   ]
  },
  {
   "cell_type": "code",
   "execution_count": 15,
   "metadata": {},
   "outputs": [
    {
     "name": "stdout",
     "output_type": "stream",
     "text": [
      "Yaswanth Teja\n",
      "Guntur\n"
     ]
    }
   ],
   "source": [
    "#Assignment \n",
    "\n",
    "name=input(\"Enter your name:\")\n",
    "city_name=input(\"Enter your city name:\")\n",
    "print(name)\n",
    "print(city_name)\n"
   ]
  },
  {
   "cell_type": "code",
   "execution_count": null,
   "metadata": {},
   "outputs": [],
   "source": []
  }
 ],
 "metadata": {
  "kernelspec": {
   "display_name": "Python 3",
   "language": "python",
   "name": "python3"
  },
  "language_info": {
   "codemirror_mode": {
    "name": "ipython",
    "version": 3
   },
   "file_extension": ".py",
   "mimetype": "text/x-python",
   "name": "python",
   "nbconvert_exporter": "python",
   "pygments_lexer": "ipython3",
   "version": "3.11.1"
  },
  "orig_nbformat": 4
 },
 "nbformat": 4,
 "nbformat_minor": 2
}
