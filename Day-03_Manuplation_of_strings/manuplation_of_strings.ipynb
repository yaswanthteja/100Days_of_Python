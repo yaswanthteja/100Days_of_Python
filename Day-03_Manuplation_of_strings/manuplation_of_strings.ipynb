{
 "cells": [
  {
   "attachments": {},
   "cell_type": "markdown",
   "metadata": {},
   "source": []
  },
  {
   "cell_type": "code",
   "execution_count": 2,
   "metadata": {},
   "outputs": [
    {
     "name": "stdout",
     "output_type": "stream",
     "text": [
      "Hello World\n"
     ]
    }
   ],
   "source": [
    "# concatenation\n",
    "str1 = \"Hello\"\n",
    "str2 = \"World\"\n",
    "result = str1 + \" \" + str2  # Concatenation using the + operator\n",
    "print(result)"
   ]
  },
  {
   "cell_type": "code",
   "execution_count": null,
   "metadata": {},
   "outputs": [],
   "source": []
  },
  {
   "cell_type": "code",
   "execution_count": 9,
   "metadata": {},
   "outputs": [
    {
     "name": "stdout",
     "output_type": "stream",
     "text": [
      "Hello World\n"
     ]
    }
   ],
   "source": [
    "str1 = \"Hello\"\n",
    "str2 = \"World\"\n",
    "result = \" \".join([str1, str2])  # Concatenation using str.join()\n",
    "print(result) \n",
    " # Output: Hello World"
   ]
  },
  {
   "cell_type": "code",
   "execution_count": null,
   "metadata": {},
   "outputs": [],
   "source": []
  },
  {
   "cell_type": "code",
   "execution_count": 14,
   "metadata": {},
   "outputs": [
    {
     "name": "stdout",
     "output_type": "stream",
     "text": [
      "Hello World\n"
     ]
    }
   ],
   "source": [
    "result=\" \".join([\"Hello\"+\" \"+ \"World\"])\n",
    "print(result)"
   ]
  },
  {
   "cell_type": "code",
   "execution_count": null,
   "metadata": {},
   "outputs": [],
   "source": []
  },
  {
   "cell_type": "code",
   "execution_count": 16,
   "metadata": {},
   "outputs": [
    {
     "name": "stdout",
     "output_type": "stream",
     "text": [
      "World\n"
     ]
    }
   ],
   "source": [
    "string = \"Hello, World!\"\n",
    "substring = string[7:12]  # Extracting the substring \"World\"\n",
    "print(substring)\n",
    "# Output: World\n"
   ]
  },
  {
   "cell_type": "code",
   "execution_count": null,
   "metadata": {},
   "outputs": [],
   "source": []
  },
  {
   "cell_type": "code",
   "execution_count": 17,
   "metadata": {},
   "outputs": [
    {
     "name": "stdout",
     "output_type": "stream",
     "text": [
      "5\n"
     ]
    }
   ],
   "source": [
    "# String Length\n",
    "\n",
    "string = \"Hello\"\n",
    "length = len(string)  # Length of the string\n",
    "print(length)\n",
    "\n",
    "# Output: 5\n"
   ]
  },
  {
   "cell_type": "code",
   "execution_count": null,
   "metadata": {},
   "outputs": [],
   "source": []
  },
  {
   "cell_type": "code",
   "execution_count": 18,
   "metadata": {},
   "outputs": [
    {
     "name": "stdout",
     "output_type": "stream",
     "text": [
      "hello, world!\n",
      "HELLO, WORLD!\n"
     ]
    }
   ],
   "source": [
    "# changing the cases\n",
    "string = \"Hello, World!\"\n",
    "lowercase = string.lower()  # Converting to lowercase\n",
    "uppercase = string.upper()  # Converting to uppercase\n",
    "print(lowercase)\n",
    "print(uppercase)\n",
    "\n",
    "# Output: hello, world!\n",
    "# Output: HELLO, WORLD!"
   ]
  },
  {
   "cell_type": "code",
   "execution_count": null,
   "metadata": {},
   "outputs": [],
   "source": []
  },
  {
   "cell_type": "code",
   "execution_count": 19,
   "metadata": {},
   "outputs": [
    {
     "name": "stdout",
     "output_type": "stream",
     "text": [
      "Hello, Python!\n"
     ]
    }
   ],
   "source": [
    "# string replacement with replace()\n",
    "\n",
    "string = \"Hello, World!\"\n",
    "new_string = string.replace(\"World\", \"Python\")  # Replacing \"World\" with \"Python\"\n",
    "print(new_string)\n",
    "\n",
    "# Output: Hello, Python!\n"
   ]
  },
  {
   "cell_type": "code",
   "execution_count": 20,
   "metadata": {},
   "outputs": [
    {
     "name": "stdout",
     "output_type": "stream",
     "text": [
      "['Hello', 'World!']\n",
      "Hello-World!\n"
     ]
    }
   ],
   "source": [
    "# Splitting and Joining\n",
    "\n",
    "string = \"Hello, World!\"\n",
    "words = string.split(\", \")  # Splitting into words\n",
    "print(words)\n",
    "\n",
    "\n",
    "joined_string = \"-\".join(words)  # Joining words with a hyphen\n",
    "print(joined_string)\n",
    "\n",
    "# Output: ['Hello', 'World!'] \n",
    "# Output: Hello-World!\n"
   ]
  },
  {
   "cell_type": "code",
   "execution_count": null,
   "metadata": {},
   "outputs": [],
   "source": []
  },
  {
   "cell_type": "code",
   "execution_count": 21,
   "metadata": {},
   "outputs": [
    {
     "name": "stdout",
     "output_type": "stream",
     "text": [
      "Hello, World!\n"
     ]
    }
   ],
   "source": [
    "# Removing whitespace using strip()\n",
    "\n",
    "string = \"   Hello, World!   \"\n",
    "stripped_string = string.strip()\n",
    "print(stripped_string) \n",
    "\n",
    " # Output: Hello, World!\n"
   ]
  },
  {
   "cell_type": "code",
   "execution_count": null,
   "metadata": {},
   "outputs": [],
   "source": []
  },
  {
   "cell_type": "code",
   "execution_count": 22,
   "metadata": {},
   "outputs": [
    {
     "name": "stdout",
     "output_type": "stream",
     "text": [
      "Hello, World!   \n"
     ]
    }
   ],
   "source": [
    "#removing white spaces by using lstrip()\n",
    "string = \"   Hello, World!   \"\n",
    "stripped_string = string.lstrip()\n",
    "print(stripped_string)  #Output  \"Hello, World!   \"   here  quotations are excluded from output , just for identification purpose only\n"
   ]
  },
  {
   "cell_type": "code",
   "execution_count": null,
   "metadata": {},
   "outputs": [],
   "source": []
  },
  {
   "cell_type": "code",
   "execution_count": 23,
   "metadata": {},
   "outputs": [
    {
     "name": "stdout",
     "output_type": "stream",
     "text": [
      "   Hello, World!\n"
     ]
    }
   ],
   "source": [
    "# using rstrip() removes whitespace from ending\n",
    "string = \"   Hello, World!   \"\n",
    "stripped_string = string.rstrip()\n",
    "print(stripped_string) \n",
    "\n",
    " # Output: \"   Hello, World!\"  here  quotations are excluded from output , just for identification purpose only"
   ]
  },
  {
   "cell_type": "code",
   "execution_count": null,
   "metadata": {},
   "outputs": [],
   "source": []
  },
  {
   "cell_type": "code",
   "execution_count": 24,
   "metadata": {},
   "outputs": [
    {
     "name": "stdout",
     "output_type": "stream",
     "text": [
      "Hello,World!\n"
     ]
    }
   ],
   "source": [
    "# removing white spaces using replace()\n",
    "string = \"   Hello, World!   \"\n",
    "stripped_string = string.replace(\" \", \"\")\n",
    "print(stripped_string)  # Output: Hello,World!\n"
   ]
  },
  {
   "cell_type": "code",
   "execution_count": null,
   "metadata": {},
   "outputs": [],
   "source": []
  },
  {
   "cell_type": "code",
   "execution_count": 35,
   "metadata": {},
   "outputs": [
    {
     "name": "stdout",
     "output_type": "stream",
     "text": [
      "Hello, Alice!\n",
      "Name: Alice, Age: 25, Birth Year: 1998\n"
     ]
    }
   ],
   "source": [
    "# fstrings\n",
    "\n",
    "\n",
    "name = \"Alice\"\n",
    "age = 25\n",
    "\n",
    "# Example 1: Simple f-string\n",
    "greeting = f\"Hello, {name}!\"\n",
    "print(greeting) \n",
    "\n",
    " # Output: \"Hello, Alice!\"\n",
    "\n",
    "# Example 2: Expressions within f-string\n",
    "info = f\"Name: {name}, Age: {age}, Birth Year: {2023 - age}\"\n",
    "print(info) \n",
    "\n",
    " # Output: \"Name: Alice, Age: 25, Birth Year: 1998\""
   ]
  },
  {
   "cell_type": "code",
   "execution_count": 37,
   "metadata": {},
   "outputs": [
    {
     "name": "stdout",
     "output_type": "stream",
     "text": [
      "your name  is yaswanth and your 23 year's old \n"
     ]
    }
   ],
   "source": [
    "# fstrings\n",
    "\n",
    "name=input(\"Enter your name: \")\n",
    "age=input(\"Enter your age: \")\n",
    "\n",
    "details=f\"your name  is {name} and your {age} year's old \"\n",
    "print(details)"
   ]
  },
  {
   "cell_type": "code",
   "execution_count": null,
   "metadata": {},
   "outputs": [],
   "source": []
  },
  {
   "cell_type": "code",
   "execution_count": null,
   "metadata": {},
   "outputs": [],
   "source": []
  },
  {
   "cell_type": "code",
   "execution_count": 32,
   "metadata": {},
   "outputs": [
    {
     "name": "stdout",
     "output_type": "stream",
     "text": [
      "<class 'int'>\n"
     ]
    },
    {
     "ename": "TypeError",
     "evalue": "can only concatenate str (not \"int\") to str",
     "output_type": "error",
     "traceback": [
      "\u001b[1;31m---------------------------------------------------------------------------\u001b[0m",
      "\u001b[1;31mTypeError\u001b[0m                                 Traceback (most recent call last)",
      "Cell \u001b[1;32mIn[32], line 4\u001b[0m\n\u001b[0;32m      2\u001b[0m char\u001b[39m=\u001b[39m\u001b[39mlen\u001b[39m(\u001b[39minput\u001b[39m(\u001b[39m\"\u001b[39m\u001b[39mEnter your name: \u001b[39m\u001b[39m\"\u001b[39m))\n\u001b[0;32m      3\u001b[0m \u001b[39mprint\u001b[39m(\u001b[39mtype\u001b[39m(char))\n\u001b[1;32m----> 4\u001b[0m \u001b[39mprint\u001b[39m(\u001b[39m\"\u001b[39;49m\u001b[39myourname\u001b[39;49m\u001b[39m\"\u001b[39;49m \u001b[39m+\u001b[39;49m char \u001b[39m+\u001b[39m\u001b[39m\"\u001b[39m\u001b[39mcharaters\u001b[39m\u001b[39m\"\u001b[39m)\n\u001b[0;32m      5\u001b[0m \u001b[39m# here error generates because  concatenate a string with an integer is not possible in python\u001b[39;00m\n",
      "\u001b[1;31mTypeError\u001b[0m: can only concatenate str (not \"int\") to str"
     ]
    }
   ],
   "source": [
    "# Write a program to print the no of characters in the name entered by user using len() function.\n",
    "\n",
    "\n",
    "char=len(input(\"Enter your name: \"))\n",
    "print(type(char)) # <class 'int'>\n",
    "print(\"yourname\" + char +\"charaters\")\n",
    "# here error generates because  concatenating a string with an integer is not possible in python"
   ]
  },
  {
   "cell_type": "code",
   "execution_count": null,
   "metadata": {},
   "outputs": [],
   "source": []
  },
  {
   "cell_type": "code",
   "execution_count": 34,
   "metadata": {},
   "outputs": [
    {
     "name": "stdout",
     "output_type": "stream",
     "text": [
      "Your name has 8 characters.\n"
     ]
    }
   ],
   "source": [
    "# Write a program to print the no of characters in the name entered by user using len() function.\n",
    "name = input(\"Enter your name: \")\n",
    "char = len(name)\n",
    "print(\"Your name has \" + str(char) + \" characters.\")  # typecasting into string by using str() \n"
   ]
  },
  {
   "cell_type": "code",
   "execution_count": null,
   "metadata": {},
   "outputs": [],
   "source": []
  }
 ],
 "metadata": {
  "kernelspec": {
   "display_name": "Python 3",
   "language": "python",
   "name": "python3"
  },
  "language_info": {
   "codemirror_mode": {
    "name": "ipython",
    "version": 3
   },
   "file_extension": ".py",
   "mimetype": "text/x-python",
   "name": "python",
   "nbconvert_exporter": "python",
   "pygments_lexer": "ipython3",
   "version": "3.11.1"
  },
  "orig_nbformat": 4
 },
 "nbformat": 4,
 "nbformat_minor": 2
}
