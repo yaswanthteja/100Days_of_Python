{
 "cells": [
  {
   "cell_type": "code",
   "execution_count": null,
   "metadata": {},
   "outputs": [],
   "source": []
  },
  {
   "attachments": {},
   "cell_type": "markdown",
   "metadata": {},
   "source": [
    "## Arithmetic Operators"
   ]
  },
  {
   "cell_type": "code",
   "execution_count": 1,
   "metadata": {},
   "outputs": [
    {
     "name": "stdout",
     "output_type": "stream",
     "text": [
      "30\n"
     ]
    }
   ],
   "source": [
    "a=10\n",
    "b=20\n",
    "print(a+b) # Addition"
   ]
  },
  {
   "cell_type": "code",
   "execution_count": 2,
   "metadata": {},
   "outputs": [
    {
     "name": "stdout",
     "output_type": "stream",
     "text": [
      "-10\n"
     ]
    }
   ],
   "source": [
    "a=10\n",
    "b=20\n",
    "print(a-b) #substraction"
   ]
  },
  {
   "cell_type": "code",
   "execution_count": 3,
   "metadata": {},
   "outputs": [
    {
     "name": "stdout",
     "output_type": "stream",
     "text": [
      "200\n"
     ]
    }
   ],
   "source": [
    "a=10\n",
    "b=20\n",
    "print(a*b)# Multiplication"
   ]
  },
  {
   "cell_type": "code",
   "execution_count": 4,
   "metadata": {},
   "outputs": [
    {
     "name": "stdout",
     "output_type": "stream",
     "text": [
      "0.5\n"
     ]
    }
   ],
   "source": [
    "a=10\n",
    "b=20\n",
    "print(a/b)#Division"
   ]
  },
  {
   "cell_type": "code",
   "execution_count": 5,
   "metadata": {},
   "outputs": [
    {
     "name": "stdout",
     "output_type": "stream",
     "text": [
      "10\n"
     ]
    }
   ],
   "source": [
    "a=10\n",
    "b=20\n",
    "print(a%b)# modulo division"
   ]
  },
  {
   "cell_type": "code",
   "execution_count": 7,
   "metadata": {},
   "outputs": [
    {
     "name": "stdout",
     "output_type": "stream",
     "text": [
      "5\n"
     ]
    }
   ],
   "source": [
    "a=100\n",
    "b=20\n",
    "print(a//b) # floor Division"
   ]
  },
  {
   "cell_type": "code",
   "execution_count": 8,
   "metadata": {},
   "outputs": [
    {
     "name": "stdout",
     "output_type": "stream",
     "text": [
      "100000000000000000000\n"
     ]
    }
   ],
   "source": [
    "a=10\n",
    "b=20\n",
    "print(a**b)# Exponent or power operator"
   ]
  },
  {
   "cell_type": "code",
   "execution_count": 9,
   "metadata": {},
   "outputs": [
    {
     "name": "stdout",
     "output_type": "stream",
     "text": [
      "Addition: 50.7\n",
      "Subtraction: -9.7\n",
      "Multiplication: 619.1\n",
      "Division: 0.6788079470198676\n",
      "Modulus: 20.5\n",
      "Floor Division: 0.0\n",
      "Exponentiation: 4.1206583108820126e+39\n"
     ]
    }
   ],
   "source": [
    "\n",
    "\n",
    "# Arithmetic Operators Example\n",
    "\n",
    "# Input two numbers from the user\n",
    "num1 = float(input(\"Enter the first number: \"))\n",
    "num2 = float(input(\"Enter the second number: \"))\n",
    "\n",
    "# Perform arithmetic operations\n",
    "addition = num1 + num2\n",
    "subtraction = num1 - num2\n",
    "multiplication = num1 * num2\n",
    "division = num1 / num2\n",
    "modulus = num1 % num2\n",
    "floor_division = num1 // num2\n",
    "exponentiation = num1 ** num2\n",
    "\n",
    "# Print the results\n",
    "print(\"Addition:\", addition)\n",
    "print(\"Subtraction:\", subtraction)\n",
    "print(\"Multiplication:\", multiplication)\n",
    "print(\"Division:\", division)\n",
    "print(\"Modulus:\", modulus)\n",
    "print(\"Floor Division:\", floor_division)\n",
    "print(\"Exponentiation:\", exponentiation)\n"
   ]
  },
  {
   "cell_type": "code",
   "execution_count": null,
   "metadata": {},
   "outputs": [],
   "source": []
  },
  {
   "attachments": {},
   "cell_type": "markdown",
   "metadata": {},
   "source": [
    "## Relational or Comparison Operator"
   ]
  },
  {
   "cell_type": "code",
   "execution_count": 10,
   "metadata": {},
   "outputs": [
    {
     "name": "stdout",
     "output_type": "stream",
     "text": [
      "False\n"
     ]
    }
   ],
   "source": [
    "a=10\n",
    "b=20\n",
    "print(a>b) # Greater than\n"
   ]
  },
  {
   "cell_type": "code",
   "execution_count": 11,
   "metadata": {},
   "outputs": [
    {
     "name": "stdout",
     "output_type": "stream",
     "text": [
      "True\n"
     ]
    }
   ],
   "source": [
    "a=10\n",
    "b=20\n",
    "print(a<b) #  less than "
   ]
  },
  {
   "cell_type": "code",
   "execution_count": 13,
   "metadata": {},
   "outputs": [
    {
     "name": "stdout",
     "output_type": "stream",
     "text": [
      "True\n"
     ]
    }
   ],
   "source": [
    "a=100\n",
    "b=20\n",
    "print(a>=b)# greater than equals to"
   ]
  },
  {
   "cell_type": "code",
   "execution_count": 15,
   "metadata": {},
   "outputs": [
    {
     "name": "stdout",
     "output_type": "stream",
     "text": [
      "False\n"
     ]
    }
   ],
   "source": [
    "a=10\n",
    "b=20\n",
    "print(a>=b)# less than equals to"
   ]
  },
  {
   "cell_type": "code",
   "execution_count": 16,
   "metadata": {},
   "outputs": [
    {
     "name": "stdout",
     "output_type": "stream",
     "text": [
      "Greater than: True\n",
      "Less than: False\n",
      "Greater than or equal to: True\n",
      "Less than or equal to: False\n",
      "Equal to: False\n",
      "Not equal to: True\n"
     ]
    }
   ],
   "source": [
    "# Relational Operators Example\n",
    "\n",
    "# Input two numbers from the user\n",
    "num1 = float(input(\"Enter the first number: \"))\n",
    "num2 = float(input(\"Enter the second number: \"))\n",
    "\n",
    "# Perform relational operations\n",
    "greater_than = num1 > num2\n",
    "less_than = num1 < num2\n",
    "greater_than_equal = num1 >= num2\n",
    "less_than_equal = num1 <= num2\n",
    "equal_to = num1 == num2\n",
    "not_equal_to = num1 != num2\n",
    "\n",
    "# Print the results\n",
    "print(\"Greater than:\", greater_than)\n",
    "print(\"Less than:\", less_than)\n",
    "print(\"Greater than or equal to:\", greater_than_equal)\n",
    "print(\"Less than or equal to:\", less_than_equal)\n",
    "print(\"Equal to:\", equal_to)\n",
    "print(\"Not equal to:\", not_equal_to)\n"
   ]
  },
  {
   "cell_type": "code",
   "execution_count": null,
   "metadata": {},
   "outputs": [],
   "source": []
  },
  {
   "attachments": {},
   "cell_type": "markdown",
   "metadata": {},
   "source": [
    "## Logical Operators"
   ]
  },
  {
   "cell_type": "code",
   "execution_count": 17,
   "metadata": {},
   "outputs": [
    {
     "name": "stdout",
     "output_type": "stream",
     "text": [
      "Logical AND: True\n",
      "Logical OR: True\n",
      "Logical NOT (Value 1): False\n",
      "Logical NOT (Value 2): False\n"
     ]
    }
   ],
   "source": [
    "# Logical Operators Example\n",
    "\n",
    "# Input two boolean values from the user\n",
    "value1 = bool(input(\"Enter the first boolean value (True/False): \"))   #true\n",
    "value2 = bool(input(\"Enter the second boolean value (True/False): \"))  #false\n",
    "\n",
    "# Perform logical operations\n",
    "logical_and = value1 and value2\n",
    "logical_or = value1 or value2\n",
    "logical_not_value1 = not value1\n",
    "logical_not_value2 = not value2\n",
    "\n",
    "# Print the results\n",
    "print(\"Logical AND:\", logical_and)\n",
    "print(\"Logical OR:\", logical_or)\n",
    "print(\"Logical NOT (Value 1):\", logical_not_value1)\n",
    "print(\"Logical NOT (Value 2):\", logical_not_value2)\n"
   ]
  },
  {
   "cell_type": "code",
   "execution_count": null,
   "metadata": {},
   "outputs": [],
   "source": []
  },
  {
   "attachments": {},
   "cell_type": "markdown",
   "metadata": {},
   "source": [
    "##  Bitwise Operators"
   ]
  },
  {
   "cell_type": "code",
   "execution_count": 18,
   "metadata": {},
   "outputs": [
    {
     "name": "stdout",
     "output_type": "stream",
     "text": [
      "Bitwise AND: 8\n",
      "Bitwise OR: 28\n",
      "Bitwise XOR: 20\n",
      "Bitwise NOT (num1): -13\n",
      "Bitwise Left Shift: 201326592\n",
      "Bitwise Right Shift: 0\n"
     ]
    }
   ],
   "source": [
    "# Bitwise Operators Example\n",
    "\n",
    "# Input two integers from the user\n",
    "num1 = int(input(\"Enter the first number: \"))\n",
    "num2 = int(input(\"Enter the second number: \"))\n",
    "\n",
    "# Perform bitwise operations\n",
    "bitwise_and = num1 & num2\n",
    "bitwise_or = num1 | num2\n",
    "bitwise_xor = num1 ^ num2\n",
    "bitwise_not_num1 = ~num1\n",
    "bitwise_left_shift = num1 << num2\n",
    "bitwise_right_shift = num1 >> num2\n",
    "\n",
    "# Print the results\n",
    "print(\"Bitwise AND:\", bitwise_and)\n",
    "print(\"Bitwise OR:\", bitwise_or)\n",
    "print(\"Bitwise XOR:\", bitwise_xor)\n",
    "print(\"Bitwise NOT (num1):\", bitwise_not_num1)\n",
    "print(\"Bitwise Left Shift:\", bitwise_left_shift)\n",
    "print(\"Bitwise Right Shift:\", bitwise_right_shift)\n"
   ]
  },
  {
   "cell_type": "code",
   "execution_count": null,
   "metadata": {},
   "outputs": [],
   "source": []
  },
  {
   "attachments": {},
   "cell_type": "markdown",
   "metadata": {},
   "source": [
    "## Assignment Operators"
   ]
  },
  {
   "cell_type": "code",
   "execution_count": 19,
   "metadata": {},
   "outputs": [
    {
     "name": "stdout",
     "output_type": "stream",
     "text": [
      "Result: 0.0\n"
     ]
    }
   ],
   "source": [
    "# Assignment Operators Example\n",
    "\n",
    "# Initialize a variable\n",
    "x = 10\n",
    "\n",
    "# Perform assignment operations\n",
    "x += 5   # Equivalent to: x = x + 5\n",
    "x -= 3   # Equivalent to: x = x - 3\n",
    "x *= 2   # Equivalent to: x = x * 2\n",
    "x /= 4   # Equivalent to: x = x / 4\n",
    "x %= 3   # Equivalent to: x = x % 3\n",
    "x //= 2  # Equivalent to: x = x // 2\n",
    "x **= 3  # Equivalent to: x = x ** 3\n",
    "\n",
    "# Print the result\n",
    "print(\"Result:\", x)\n"
   ]
  },
  {
   "cell_type": "code",
   "execution_count": null,
   "metadata": {},
   "outputs": [],
   "source": []
  },
  {
   "attachments": {},
   "cell_type": "markdown",
   "metadata": {},
   "source": [
    "## Ternary Operator"
   ]
  },
  {
   "cell_type": "code",
   "execution_count": 20,
   "metadata": {},
   "outputs": [
    {
     "name": "stdout",
     "output_type": "stream",
     "text": [
      "The number is Positive\n"
     ]
    }
   ],
   "source": [
    "# Ternary Operator Example\n",
    "\n",
    "# Input a number from the user\n",
    "number = int(input(\"Enter a number: \"))\n",
    "\n",
    "# Check if the number is positive or negative using a ternary operator\n",
    "result = \"Positive\" if number > 0 else \"Negative\"\n",
    "\n",
    "# Print the result\n",
    "print(\"The number is\", result)"
   ]
  },
  {
   "cell_type": "code",
   "execution_count": null,
   "metadata": {},
   "outputs": [],
   "source": []
  },
  {
   "attachments": {},
   "cell_type": "markdown",
   "metadata": {},
   "source": [
    "## Identity Operators"
   ]
  },
  {
   "cell_type": "code",
   "execution_count": 21,
   "metadata": {},
   "outputs": [
    {
     "name": "stdout",
     "output_type": "stream",
     "text": [
      "Same object: False\n",
      "Different object: True\n"
     ]
    }
   ],
   "source": [
    "# Identity Operators Example\n",
    "\n",
    "# Input two values from the user\n",
    "value1 = input(\"Enter the first value: \")\n",
    "value2 = input(\"Enter the second value: \")\n",
    "\n",
    "# Check identity using identity operators\n",
    "is_same_object = value1 is value2\n",
    "is_different_object = value1 is not value2\n",
    "\n",
    "# Print the results\n",
    "print(\"Same object:\", is_same_object)\n",
    "print(\"Different object:\", is_different_object)\n"
   ]
  },
  {
   "cell_type": "code",
   "execution_count": null,
   "metadata": {},
   "outputs": [],
   "source": []
  },
  {
   "attachments": {},
   "cell_type": "markdown",
   "metadata": {},
   "source": [
    "## Membership Operators"
   ]
  },
  {
   "cell_type": "code",
   "execution_count": 22,
   "metadata": {},
   "outputs": [
    {
     "name": "stdout",
     "output_type": "stream",
     "text": [
      "Is 'a' in the string: False\n",
      "Is 'z' not in the string: True\n"
     ]
    }
   ],
   "source": [
    "# Membership Operators Example\n",
    "\n",
    "# Input a string from the user\n",
    "string = input(\"Enter a string: \")\n",
    "\n",
    "# Check membership using membership operators\n",
    "is_in_string = 'a' in string\n",
    "is_not_in_string = 'z' not in string\n",
    "\n",
    "# Print the results\n",
    "print(\"Is 'a' in the string:\", is_in_string)\n",
    "print(\"Is 'z' not in the string:\", is_not_in_string)\n"
   ]
  },
  {
   "cell_type": "code",
   "execution_count": null,
   "metadata": {},
   "outputs": [],
   "source": []
  },
  {
   "attachments": {},
   "cell_type": "markdown",
   "metadata": {},
   "source": [
    "### eval() "
   ]
  },
  {
   "cell_type": "code",
   "execution_count": 24,
   "metadata": {},
   "outputs": [
    {
     "name": "stdout",
     "output_type": "stream",
     "text": [
      "8.0\n"
     ]
    }
   ],
   "source": [
    "print(eval(\"3+2*5/2\"))"
   ]
  },
  {
   "cell_type": "code",
   "execution_count": 25,
   "metadata": {},
   "outputs": [
    {
     "name": "stdout",
     "output_type": "stream",
     "text": [
      "2.0\n"
     ]
    },
    {
     "ename": "",
     "evalue": "",
     "output_type": "error",
     "traceback": [
      "\u001b[1;31mThe Kernel crashed while executing code in the the current cell or a previous cell. Please review the code in the cell(s) to identify a possible cause of the failure. Click <a href='https://aka.ms/vscodeJupyterKernelCrash'>here</a> for more info. View Jupyter <a href='command:jupyter.viewOutput'>log</a> for further details."
     ]
    }
   ],
   "source": [
    "print(eval(\"2/2*5+3-6\"))"
   ]
  },
  {
   "cell_type": "code",
   "execution_count": null,
   "metadata": {},
   "outputs": [],
   "source": []
  }
 ],
 "metadata": {
  "kernelspec": {
   "display_name": "Python 3",
   "language": "python",
   "name": "python3"
  },
  "language_info": {
   "codemirror_mode": {
    "name": "ipython",
    "version": 3
   },
   "file_extension": ".py",
   "mimetype": "text/x-python",
   "name": "python",
   "nbconvert_exporter": "python",
   "pygments_lexer": "ipython3",
   "version": "3.11.1"
  },
  "orig_nbformat": 4
 },
 "nbformat": 4,
 "nbformat_minor": 2
}
