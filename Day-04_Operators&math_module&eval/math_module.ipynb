{
 "cells": [
  {
   "cell_type": "code",
   "execution_count": null,
   "metadata": {},
   "outputs": [],
   "source": []
  },
  {
   "attachments": {},
   "cell_type": "markdown",
   "metadata": {},
   "source": [
    "## math module"
   ]
  },
  {
   "cell_type": "code",
   "execution_count": 1,
   "metadata": {},
   "outputs": [],
   "source": [
    "import math # importing math "
   ]
  },
  {
   "cell_type": "code",
   "execution_count": 2,
   "metadata": {},
   "outputs": [],
   "source": [
    "import math as m #create alias name"
   ]
  },
  {
   "cell_type": "code",
   "execution_count": 3,
   "metadata": {},
   "outputs": [
    {
     "name": "stdout",
     "output_type": "stream",
     "text": [
      "4.0\n",
      "3.141592653589793\n"
     ]
    }
   ],
   "source": [
    "import math as m\n",
    "print(m.sqrt(16))\n",
    "print(m.pi)"
   ]
  },
  {
   "cell_type": "code",
   "execution_count": 4,
   "metadata": {},
   "outputs": [],
   "source": [
    "# import a particular member of a module \n",
    "from math import sqrt\n",
    "from math import sqrt,pi\n"
   ]
  },
  {
   "cell_type": "code",
   "execution_count": 5,
   "metadata": {},
   "outputs": [
    {
     "ename": "SyntaxError",
     "evalue": "invalid non-printable character U+F0E8 (3537918013.py, line 4)",
     "output_type": "error",
     "traceback": [
      "\u001b[1;36m  Cell \u001b[1;32mIn[5], line 4\u001b[1;36m\u001b[0m\n\u001b[1;33m    print(math.pi)  NameError: name 'math' is not defined\u001b[0m\n\u001b[1;37m                   ^\u001b[0m\n\u001b[1;31mSyntaxError\u001b[0m\u001b[1;31m:\u001b[0m invalid non-printable character U+F0E8\n"
     ]
    }
   ],
   "source": [
    "from math import sqrt,pi\n",
    "print(sqrt(16))\n",
    "print(pi)\n",
    "print(math.pi)  NameError: name 'math' is not defined\n",
    "\n",
    "#import a member explicitly then it is not required to use module name while accessing."
   ]
  },
  {
   "cell_type": "code",
   "execution_count": null,
   "metadata": {},
   "outputs": [],
   "source": []
  },
  {
   "cell_type": "code",
   "execution_count": 7,
   "metadata": {},
   "outputs": [
    {
     "name": "stdout",
     "output_type": "stream",
     "text": [
      "Area of Circle is : 804.247719318987\n"
     ]
    },
    {
     "ename": "",
     "evalue": "",
     "output_type": "error",
     "traceback": [
      "\u001b[1;31mThe Kernel crashed while executing code in the the current cell or a previous cell. Please review the code in the cell(s) to identify a possible cause of the failure. Click <a href='https://aka.ms/vscodeJupyterKernelCrash'>here</a> for more info. View Jupyter <a href='command:jupyter.viewOutput'>log</a> for further details."
     ]
    }
   ],
   "source": [
    "# Write a Python program to find area of circle\n",
    "\n",
    "from math import pi\n",
    "r=16\n",
    "pi*r**2\n",
    "print(\"Area of Circle is :\",pi*r**2)"
   ]
  },
  {
   "cell_type": "code",
   "execution_count": null,
   "metadata": {},
   "outputs": [],
   "source": [
    "import math\n",
    "\n",
    "# Constants\n",
    "print(\"Pi:\", math.pi)\n",
    "print(\"Euler's number:\", math.e)\n",
    "\n",
    "# Trigonometric functions\n",
    "angle = math.pi / 4\n",
    "print(\"Sine of\", angle, \":\", math.sin(angle))\n",
    "print(\"Cosine of\", angle, \":\", math.cos(angle))\n",
    "print(\"Tangent of\", angle, \":\", math.tan(angle))\n",
    "\n",
    "# Exponential and logarithmic functions\n",
    "x = 2\n",
    "print(\"Exponential of\", x, \":\", math.exp(x))\n",
    "print(\"Natural logarithm of\", x, \":\", math.log(x))\n",
    "print(\"Logarithm base 10 of\", x, \":\", math.log10(x))\n",
    "\n",
    "# Other functions\n",
    "y = -10\n",
    "print(\"Absolute value of\", y, \":\", math.fabs(y))\n",
    "print(\"Square root of\", x, \":\", math.sqrt(x))\n",
    "print(\"Ceiling value of\", x, \":\", math.ceil(x))\n",
    "print(\"Floor value of\", x, \":\", math.floor(x))\n",
    "print(\"Factorial of\", x, \":\", math.factorial(x))\n"
   ]
  },
  {
   "cell_type": "code",
   "execution_count": null,
   "metadata": {},
   "outputs": [],
   "source": []
  }
 ],
 "metadata": {
  "kernelspec": {
   "display_name": "Python 3",
   "language": "python",
   "name": "python3"
  },
  "language_info": {
   "codemirror_mode": {
    "name": "ipython",
    "version": 3
   },
   "file_extension": ".py",
   "mimetype": "text/x-python",
   "name": "python",
   "nbconvert_exporter": "python",
   "pygments_lexer": "ipython3",
   "version": "3.11.1"
  },
  "orig_nbformat": 4
 },
 "nbformat": 4,
 "nbformat_minor": 2
}
