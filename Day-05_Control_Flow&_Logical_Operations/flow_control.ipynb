{
 "cells": [
  {
   "cell_type": "code",
   "execution_count": null,
   "metadata": {},
   "outputs": [],
   "source": []
  },
  {
   "attachments": {},
   "cell_type": "markdown",
   "metadata": {},
   "source": [
    "# if statement \n",
    "\n",
    "syntax:\n",
    "```\n",
    "if condition/test_expression:\n",
    "    statement1\n",
    "    statement2\n",
    "# rest of statement\n",
    "```"
   ]
  },
  {
   "cell_type": "code",
   "execution_count": 1,
   "metadata": {},
   "outputs": [
    {
     "name": "stdout",
     "output_type": "stream",
     "text": [
      "b is greater than a\n"
     ]
    }
   ],
   "source": [
    "# if \n",
    "\n",
    "a=10\n",
    "b=20\n",
    "if a>b:\n",
    "    print(a)\n",
    "print(\"b is greater than a\") #rest of statement"
   ]
  },
  {
   "cell_type": "code",
   "execution_count": 3,
   "metadata": {},
   "outputs": [
    {
     "name": "stdout",
     "output_type": "stream",
     "text": [
      "This is true\n",
      "rest of statements\n"
     ]
    }
   ],
   "source": [
    "if True:\n",
    "    print(\"This is true\")\n",
    "print(\"rest of statements\")"
   ]
  },
  {
   "cell_type": "code",
   "execution_count": 4,
   "metadata": {},
   "outputs": [
    {
     "name": "stdout",
     "output_type": "stream",
     "text": [
      "rest of statements\n"
     ]
    }
   ],
   "source": [
    "if False:\n",
    "    print(\"This is true\")\n",
    "print(\"rest of statements\")"
   ]
  },
  {
   "cell_type": "code",
   "execution_count": 6,
   "metadata": {},
   "outputs": [
    {
     "name": "stdout",
     "output_type": "stream",
     "text": [
      "condition is false\n"
     ]
    }
   ],
   "source": [
    "if 3<4 and 4>5:\n",
    "    print(\"true\")\n",
    "print(\"condition is false\")#rest of statement\n"
   ]
  },
  {
   "cell_type": "code",
   "execution_count": 7,
   "metadata": {},
   "outputs": [
    {
     "name": "stdout",
     "output_type": "stream",
     "text": [
      "regular code\n"
     ]
    }
   ],
   "source": [
    "if 0:      # except 0 all numbers are true\n",
    "    print(\"True\")\n",
    "print(\"regular code\")"
   ]
  },
  {
   "cell_type": "code",
   "execution_count": 8,
   "metadata": {},
   "outputs": [
    {
     "name": "stdout",
     "output_type": "stream",
     "text": [
      "regular code\n"
     ]
    }
   ],
   "source": [
    "if None:\n",
    "    print(\"true\")\n",
    "print(\"regular code\")"
   ]
  },
  {
   "attachments": {},
   "cell_type": "markdown",
   "metadata": {},
   "source": []
  },
  {
   "attachments": {},
   "cell_type": "markdown",
   "metadata": {},
   "source": [
    "## if else\n",
    "\n",
    "syntax:\n",
    "```\n",
    "if condition:\n",
    "    statement1\n",
    "else:\n",
    "    statement2\n",
    "```"
   ]
  },
  {
   "cell_type": "code",
   "execution_count": 10,
   "metadata": {},
   "outputs": [
    {
     "name": "stdout",
     "output_type": "stream",
     "text": [
      "Positive number\n"
     ]
    }
   ],
   "source": [
    "# Write a program to check the input number is positive or negative.\n",
    "\n",
    "number=int(input(\"Enter the number: \"))\n",
    "if number>0:\n",
    "    print(\"Positive number\")\n",
    "else:\n",
    "    print(\"Negative number\")"
   ]
  },
  {
   "cell_type": "code",
   "execution_count": 2,
   "metadata": {},
   "outputs": [
    {
     "name": "stdout",
     "output_type": "stream",
     "text": [
      "even number\n"
     ]
    }
   ],
   "source": [
    "# example2 Write a Python program to check whether a number is even or odd.\n",
    "\n",
    "\n",
    "number=int(input(\"Enter a number :\" ))\n",
    "if number%2==0:\n",
    "    print(\"even number\")\n",
    "else:\n",
    "    print(\"odd number\")\n",
    "\n",
    "# even number are easily divided by 2  and gives remainder 0 ex: 2,4,6,8,10--\n",
    "# odd number are not easily divided by 2 and gives remainder 1 ex: 1,3,5,7,9--"
   ]
  },
  {
   "cell_type": "code",
   "execution_count": 9,
   "metadata": {},
   "outputs": [
    {
     "name": "stdout",
     "output_type": "stream",
     "text": [
      "malayalam is palindrome\n"
     ]
    }
   ],
   "source": [
    "# Write a Python program to check whether a given string is a palindrome or not.\n",
    "\n",
    "word=input(\"Enter a word :\")\n",
    "if word ==word[::-1]:          # checking if the string is equal to its reverse\n",
    "    print(word ,\"is palindrome\")\n",
    "else:\n",
    "    print(word ,\"is not palindrome\")"
   ]
  },
  {
   "cell_type": "code",
   "execution_count": null,
   "metadata": {},
   "outputs": [],
   "source": []
  },
  {
   "attachments": {},
   "cell_type": "markdown",
   "metadata": {},
   "source": [
    "# Nested if\n",
    "\n",
    "Syntax\n",
    "```\n",
    "if condition:\n",
    "    statement\n",
    "    statement\n",
    "    if condition:\n",
    "        statement\n",
    "        statement\n",
    "    else:\n",
    "        statement\n",
    "else:\n",
    "        statement\n",
    "# rest of code\n",
    "```\n"
   ]
  },
  {
   "cell_type": "code",
   "execution_count": 1,
   "metadata": {},
   "outputs": [
    {
     "name": "stdout",
     "output_type": "stream",
     "text": [
      "The number is positive\n"
     ]
    }
   ],
   "source": [
    "# program for positive and negative numbers\n",
    "\n",
    "number=float(input(\"Enter a number:\"))\n",
    "if number>=0:\n",
    "    if number==0:\n",
    "        print(\"Zero\")\n",
    "    else:\n",
    "        print(\"The number is positive\")\n",
    "else:\n",
    "    print(\"The Number is negative\")"
   ]
  },
  {
   "attachments": {},
   "cell_type": "markdown",
   "metadata": {},
   "source": []
  },
  {
   "attachments": {},
   "cell_type": "markdown",
   "metadata": {},
   "source": [
    "# if elif else\n",
    "\n",
    "Syntax\n",
    "```\n",
    "if condition:\n",
    "    statement\n",
    "elif condition:\n",
    "    statement\n",
    "else:\n",
    "    statement\n",
    "# rest of code\n",
    "```"
   ]
  },
  {
   "attachments": {},
   "cell_type": "markdown",
   "metadata": {},
   "source": [
    "\n",
    "\n"
   ]
  },
  {
   "cell_type": "code",
   "execution_count": 2,
   "metadata": {},
   "outputs": [
    {
     "name": "stdout",
     "output_type": "stream",
     "text": [
      "200.0\n"
     ]
    }
   ],
   "source": [
    "# example write a program \n",
    "\n",
    "number1=float(input(\"Enter a number:\"))\n",
    "number2=float(input(\"Enter a number:\"))\n",
    "operator=input(\"Enter your operator, +,-,*,/,% : \")\n",
    "if operator =='+':\n",
    "    print(number1+number2)\n",
    "elif operator =='-':\n",
    "    print(number1-number2)\n",
    "elif operator =='*':\n",
    "    print(number1*number2)\n",
    "elif operator =='/':\n",
    "    print(number1/number2)\n",
    "elif operator =='%':\n",
    "    print(number1-number2)\n",
    "else:\n",
    "    print(\"Enter valid operator\")\n"
   ]
  },
  {
   "cell_type": "code",
   "execution_count": 4,
   "metadata": {},
   "outputs": [
    {
     "name": "stdout",
     "output_type": "stream",
     "text": [
      "B grade\n"
     ]
    }
   ],
   "source": [
    "# garding\n",
    "\n",
    "marks=float(input(\"Enter your marks:\"))\n",
    "if marks>85 and marks<=100:\n",
    "    print(\"A grade\")\n",
    "elif marks>70 and marks<=85:\n",
    "    print(\"B grade\")\n",
    "elif marks>55 and marks<=70:\n",
    "    print(\"c grade\")\n",
    "elif marks>40 and marks<=55:\n",
    "    print(\"D grade\")\n",
    "elif marks>30 and marks<=40:\n",
    "    print(\"E grade\")\n",
    "else:\n",
    "    print(\"Fail\")\n",
    "\n"
   ]
  },
  {
   "cell_type": "code",
   "execution_count": 1,
   "metadata": {},
   "outputs": [
    {
     "name": "stdout",
     "output_type": "stream",
     "text": [
      "factorial of 2 is 2\n"
     ]
    }
   ],
   "source": [
    "# Write a Python program to find the factorial of a number.\n",
    "num=int(input(\"Enter a number :\"))\n",
    "factorial=1\n",
    "if num<0:\n",
    "    print(\"No factorial\")\n",
    "elif num==0:\n",
    "    print(\"factorial of 0 is 1\")\n",
    "else:\n",
    "    for i in range(1,num+1):\n",
    "        factorial=factorial*i\n",
    "    print(\"factorial of\",num,\"is\",factorial)\n",
    "# factorial is the product of an integer and all the integers below ex 5 5!=5*4*3*2*1\n"
   ]
  },
  {
   "cell_type": "code",
   "execution_count": null,
   "metadata": {},
   "outputs": [],
   "source": []
  },
  {
   "cell_type": "code",
   "execution_count": null,
   "metadata": {},
   "outputs": [],
   "source": []
  },
  {
   "attachments": {},
   "cell_type": "markdown",
   "metadata": {},
   "source": [
    "# Iterative statements\n",
    "1. while loop\n",
    "2. for loop\n",
    "## For loop"
   ]
  },
  {
   "cell_type": "code",
   "execution_count": 1,
   "metadata": {},
   "outputs": [
    {
     "name": "stdout",
     "output_type": "stream",
     "text": [
      "p\n",
      "e\n",
      "r\n",
      "f\n",
      "o\n",
      "r\n",
      "m\n",
      "a\n",
      "n\n",
      "c\n",
      "e\n"
     ]
    }
   ],
   "source": [
    "# Example: To print characters present in the given string\n",
    "s=\"performance\" \n",
    "for x in s : \n",
    "  print(x) "
   ]
  },
  {
   "cell_type": "code",
   "execution_count": 5,
   "metadata": {},
   "outputs": [
    {
     "name": "stdout",
     "output_type": "stream",
     "text": [
      "The character present at  0 index is : h\n",
      "The character present at  1 index is : e\n",
      "The character present at  2 index is : l\n",
      "The character present at  3 index is : l\n",
      "The character present at  4 index is : o\n",
      "The character present at  5 index is :  \n",
      "The character present at  6 index is : w\n",
      "The character present at  7 index is : o\n",
      "The character present at  8 index is : r\n",
      "The character present at  9 index is : l\n",
      "The character present at  10 index is : d\n"
     ]
    }
   ],
   "source": [
    "# Eg 2: To print characters present in string index wise:\n",
    "s=input(\"Enter some String: \") \n",
    "i=0 \n",
    "for x in s : \n",
    "    print(\"The character present at \",i,\"index is :\",x) \n",
    "    i=i+1 "
   ]
  },
  {
   "cell_type": "code",
   "execution_count": 6,
   "metadata": {},
   "outputs": [
    {
     "name": "stdout",
     "output_type": "stream",
     "text": [
      "Hello\n",
      "Hello\n",
      "Hello\n",
      "Hello\n",
      "Hello\n",
      "Hello\n",
      "Hello\n",
      "Hello\n",
      "Hello\n",
      "Hello\n"
     ]
    }
   ],
   "source": [
    "#Eg 3: To print Hello 10 times\n",
    "for x in range(10) : \n",
    "    print(\"Hello\") "
   ]
  },
  {
   "cell_type": "code",
   "execution_count": 7,
   "metadata": {},
   "outputs": [
    {
     "name": "stdout",
     "output_type": "stream",
     "text": [
      "0\n",
      "1\n",
      "2\n",
      "3\n",
      "4\n",
      "5\n",
      "6\n",
      "7\n",
      "8\n",
      "9\n",
      "10\n"
     ]
    }
   ],
   "source": [
    "#Eg 4: To display numbers from 0 to 10\n",
    "for x in range(11) : \n",
    "    print(x) "
   ]
  },
  {
   "cell_type": "code",
   "execution_count": 8,
   "metadata": {},
   "outputs": [
    {
     "name": "stdout",
     "output_type": "stream",
     "text": [
      "1\n",
      "3\n",
      "5\n",
      "7\n",
      "9\n",
      "11\n",
      "13\n",
      "15\n",
      "17\n",
      "19\n"
     ]
    }
   ],
   "source": [
    "#Eg 5: To display odd numbers from 0 to 20\n",
    "for x in range(21) : \n",
    "    if (x%2!=0): \n",
    "        print(x) "
   ]
  },
  {
   "cell_type": "code",
   "execution_count": 9,
   "metadata": {},
   "outputs": [
    {
     "name": "stdout",
     "output_type": "stream",
     "text": [
      "10\n",
      "9\n",
      "8\n",
      "7\n",
      "6\n",
      "5\n",
      "4\n",
      "3\n",
      "2\n",
      "1\n"
     ]
    }
   ],
   "source": [
    "#Eg 6: To display numbers from 10 to 1 in descending order\n",
    "for x in range(10,0,-1) : \n",
    "     print(x) "
   ]
  },
  {
   "cell_type": "code",
   "execution_count": 10,
   "metadata": {},
   "outputs": [
    {
     "name": "stdout",
     "output_type": "stream",
     "text": [
      "The Sum= 10\n",
      "The Sum= 30\n",
      "The Sum= 60\n",
      "The Sum= 460\n"
     ]
    }
   ],
   "source": [
    "#Eg 7: To print sum of numbers present inside list\n",
    "list=eval(input(\"Enter List:\")) \n",
    "sum=0; \n",
    "for x in list: \n",
    "    sum=sum+x; \n",
    "    print(\"The Sum=\",sum) "
   ]
  },
  {
   "cell_type": "code",
   "execution_count": null,
   "metadata": {},
   "outputs": [],
   "source": []
  },
  {
   "cell_type": "code",
   "execution_count": null,
   "metadata": {},
   "outputs": [],
   "source": []
  },
  {
   "attachments": {},
   "cell_type": "markdown",
   "metadata": {},
   "source": [
    "\n",
    "\n",
    "## While loop\n",
    "\n",
    "Syntax:\n",
    "```\n",
    "while condition:\n",
    "    statement\n",
    "    statement\n",
    "    statement\n",
    "```"
   ]
  },
  {
   "cell_type": "code",
   "execution_count": 6,
   "metadata": {},
   "outputs": [
    {
     "name": "stdout",
     "output_type": "stream",
     "text": [
      "1\n",
      "2\n",
      "3\n",
      "4\n",
      "5\n",
      "6\n",
      "7\n",
      "8\n",
      "9\n",
      "10\n"
     ]
    }
   ],
   "source": [
    " x=1 \n",
    " while x <=10: \n",
    "    print(x) \n",
    "    x=x+1 "
   ]
  },
  {
   "cell_type": "code",
   "execution_count": 11,
   "metadata": {},
   "outputs": [
    {
     "name": "stdout",
     "output_type": "stream",
     "text": [
      "The sum of first 10 numbers is : 1\n",
      "The sum of first 10 numbers is : 3\n",
      "The sum of first 10 numbers is : 6\n",
      "The sum of first 10 numbers is : 10\n",
      "The sum of first 10 numbers is : 15\n",
      "The sum of first 10 numbers is : 21\n",
      "The sum of first 10 numbers is : 28\n",
      "The sum of first 10 numbers is : 36\n",
      "The sum of first 10 numbers is : 45\n",
      "The sum of first 10 numbers is : 55\n"
     ]
    }
   ],
   "source": [
    "#To display the sum of first n numbers\n",
    "n=int(input(\"Enter number:\")) \n",
    "sum=0 \n",
    "i=1 \n",
    "while i<=n: \n",
    "    sum=sum+i \n",
    "    i=i+1 \n",
    "    print(\"The sum of first\",n,\"numbers is :\",sum)"
   ]
  },
  {
   "cell_type": "code",
   "execution_count": 13,
   "metadata": {},
   "outputs": [
    {
     "ename": "KeyboardInterrupt",
     "evalue": "",
     "output_type": "error",
     "traceback": [
      "\u001b[1;31m---------------------------------------------------------------------------\u001b[0m",
      "\u001b[1;31mKeyboardInterrupt\u001b[0m                         Traceback (most recent call last)",
      "Cell \u001b[1;32mIn[13], line 2\u001b[0m\n\u001b[0;32m      1\u001b[0m \u001b[39m#Infinite Loops:\u001b[39;00m\n\u001b[1;32m----> 2\u001b[0m i\u001b[39m=\u001b[39m\u001b[39m0\u001b[39m; \n\u001b[0;32m      3\u001b[0m \u001b[39mwhile\u001b[39;00m \u001b[39mTrue\u001b[39;00m : \n\u001b[0;32m      4\u001b[0m     i\u001b[39m=\u001b[39mi\u001b[39m+\u001b[39m\u001b[39m1\u001b[39m; \n",
      "Cell \u001b[1;32mIn[13], line 2\u001b[0m\n\u001b[0;32m      1\u001b[0m \u001b[39m#Infinite Loops:\u001b[39;00m\n\u001b[1;32m----> 2\u001b[0m i\u001b[39m=\u001b[39m\u001b[39m0\u001b[39m; \n\u001b[0;32m      3\u001b[0m \u001b[39mwhile\u001b[39;00m \u001b[39mTrue\u001b[39;00m : \n\u001b[0;32m      4\u001b[0m     i\u001b[39m=\u001b[39mi\u001b[39m+\u001b[39m\u001b[39m1\u001b[39m; \n",
      "File \u001b[1;32m~\\AppData\\Roaming\\Python\\Python311\\site-packages\\debugpy\\_vendored\\pydevd\\_pydevd_bundle\\pydevd_frame.py:988\u001b[0m, in \u001b[0;36mPyDBFrame.trace_dispatch\u001b[1;34m(self, frame, event, arg)\u001b[0m\n\u001b[0;32m    986\u001b[0m \u001b[39m# if thread has a suspend flag, we suspend with a busy wait\u001b[39;00m\n\u001b[0;32m    987\u001b[0m \u001b[39mif\u001b[39;00m info\u001b[39m.\u001b[39mpydev_state \u001b[39m==\u001b[39m STATE_SUSPEND:\n\u001b[1;32m--> 988\u001b[0m     \u001b[39mself\u001b[39;49m\u001b[39m.\u001b[39;49mdo_wait_suspend(thread, frame, event, arg)\n\u001b[0;32m    989\u001b[0m     \u001b[39mreturn\u001b[39;00m \u001b[39mself\u001b[39m\u001b[39m.\u001b[39mtrace_dispatch\n\u001b[0;32m    990\u001b[0m \u001b[39melse\u001b[39;00m:\n",
      "File \u001b[1;32m~\\AppData\\Roaming\\Python\\Python311\\site-packages\\debugpy\\_vendored\\pydevd\\_pydevd_bundle\\pydevd_frame.py:165\u001b[0m, in \u001b[0;36mPyDBFrame.do_wait_suspend\u001b[1;34m(self, *args, **kwargs)\u001b[0m\n\u001b[0;32m    164\u001b[0m \u001b[39mdef\u001b[39;00m \u001b[39mdo_wait_suspend\u001b[39m(\u001b[39mself\u001b[39m, \u001b[39m*\u001b[39margs, \u001b[39m*\u001b[39m\u001b[39m*\u001b[39mkwargs):\n\u001b[1;32m--> 165\u001b[0m     \u001b[39mself\u001b[39;49m\u001b[39m.\u001b[39;49m_args[\u001b[39m0\u001b[39;49m]\u001b[39m.\u001b[39;49mdo_wait_suspend(\u001b[39m*\u001b[39;49margs, \u001b[39m*\u001b[39;49m\u001b[39m*\u001b[39;49mkwargs)\n",
      "File \u001b[1;32m~\\AppData\\Roaming\\Python\\Python311\\site-packages\\debugpy\\_vendored\\pydevd\\pydevd.py:2070\u001b[0m, in \u001b[0;36mPyDB.do_wait_suspend\u001b[1;34m(self, thread, frame, event, arg, exception_type)\u001b[0m\n\u001b[0;32m   2067\u001b[0m             from_this_thread\u001b[39m.\u001b[39mappend(frame_custom_thread_id)\n\u001b[0;32m   2069\u001b[0m     \u001b[39mwith\u001b[39;00m \u001b[39mself\u001b[39m\u001b[39m.\u001b[39m_threads_suspended_single_notification\u001b[39m.\u001b[39mnotify_thread_suspended(thread_id, thread, stop_reason):\n\u001b[1;32m-> 2070\u001b[0m         keep_suspended \u001b[39m=\u001b[39m \u001b[39mself\u001b[39;49m\u001b[39m.\u001b[39;49m_do_wait_suspend(thread, frame, event, arg, suspend_type, from_this_thread, frames_tracker)\n\u001b[0;32m   2072\u001b[0m frames_list \u001b[39m=\u001b[39m \u001b[39mNone\u001b[39;00m\n\u001b[0;32m   2074\u001b[0m \u001b[39mif\u001b[39;00m keep_suspended:\n\u001b[0;32m   2075\u001b[0m     \u001b[39m# This means that we should pause again after a set next statement.\u001b[39;00m\n",
      "File \u001b[1;32m~\\AppData\\Roaming\\Python\\Python311\\site-packages\\debugpy\\_vendored\\pydevd\\pydevd.py:2106\u001b[0m, in \u001b[0;36mPyDB._do_wait_suspend\u001b[1;34m(self, thread, frame, event, arg, suspend_type, from_this_thread, frames_tracker)\u001b[0m\n\u001b[0;32m   2103\u001b[0m         \u001b[39mself\u001b[39m\u001b[39m.\u001b[39m_call_input_hook()\n\u001b[0;32m   2105\u001b[0m     \u001b[39mself\u001b[39m\u001b[39m.\u001b[39mprocess_internal_commands()\n\u001b[1;32m-> 2106\u001b[0m     time\u001b[39m.\u001b[39msleep(\u001b[39m0.01\u001b[39m)\n\u001b[0;32m   2108\u001b[0m \u001b[39mself\u001b[39m\u001b[39m.\u001b[39mcancel_async_evaluation(get_current_thread_id(thread), \u001b[39mstr\u001b[39m(\u001b[39mid\u001b[39m(frame)))\n\u001b[0;32m   2110\u001b[0m \u001b[39m# process any stepping instructions\u001b[39;00m\n",
      "\u001b[1;31mKeyboardInterrupt\u001b[0m: "
     ]
    }
   ],
   "source": [
    "#Infinite Loops:\n",
    "i=0; \n",
    "while True : \n",
    "    i=i+1; \n",
    "    print(\"Hello\",i)\n",
    "\n",
    "    "
   ]
  },
  {
   "cell_type": "code",
   "execution_count": null,
   "metadata": {},
   "outputs": [],
   "source": []
  },
  {
   "cell_type": "code",
   "execution_count": null,
   "metadata": {},
   "outputs": [],
   "source": []
  },
  {
   "attachments": {},
   "cell_type": "markdown",
   "metadata": {},
   "source": [
    "\n",
    "## Nested Loops:\n",
    "Sometimes we can take a loop inside another loop,which are also known as nested loops."
   ]
  },
  {
   "attachments": {},
   "cell_type": "markdown",
   "metadata": {},
   "source": []
  },
  {
   "cell_type": "code",
   "execution_count": 14,
   "metadata": {},
   "outputs": [
    {
     "name": "stdout",
     "output_type": "stream",
     "text": [
      "i= 0  j= 0\n",
      "i= 0  j= 1\n",
      "i= 0  j= 2\n",
      "i= 0  j= 3\n",
      "i= 1  j= 0\n",
      "i= 1  j= 1\n",
      "i= 1  j= 2\n",
      "i= 1  j= 3\n",
      "i= 2  j= 0\n",
      "i= 2  j= 1\n",
      "i= 2  j= 2\n",
      "i= 2  j= 3\n",
      "i= 3  j= 0\n",
      "i= 3  j= 1\n",
      "i= 3  j= 2\n",
      "i= 3  j= 3\n"
     ]
    }
   ],
   "source": [
    "for i in range(4): \n",
    "    for j in range(4): \n",
    "        print(\"i=\",i,\" j=\",j) "
   ]
  },
  {
   "cell_type": "code",
   "execution_count": null,
   "metadata": {},
   "outputs": [],
   "source": []
  },
  {
   "cell_type": "code",
   "execution_count": 15,
   "metadata": {},
   "outputs": [
    {
     "name": "stdout",
     "output_type": "stream",
     "text": [
      "* \n",
      "* * \n",
      "* * * \n",
      "* * * * \n",
      "* * * * * \n"
     ]
    }
   ],
   "source": [
    "# Q. Write a program to dispaly *'s in Right angled triangled form\n",
    "n = int(input(\"Enter number of rows:\")) \n",
    "for i in range(1,n+1): \n",
    "    for j in range(1,i+1): \n",
    "        print(\"*\",end=\" \") \n",
    "    print()"
   ]
  },
  {
   "cell_type": "code",
   "execution_count": 16,
   "metadata": {},
   "outputs": [
    {
     "name": "stdout",
     "output_type": "stream",
     "text": [
      "* \n",
      "* * \n",
      "* * * \n",
      "* * * * \n",
      "* * * * * \n"
     ]
    }
   ],
   "source": [
    "n = int(input(\"Enter number of rows:\")) \n",
    "for i in range(1,n+1): \n",
    "    print(\"* \" * i) "
   ]
  },
  {
   "cell_type": "code",
   "execution_count": 17,
   "metadata": {},
   "outputs": [
    {
     "name": "stdout",
     "output_type": "stream",
     "text": [
      "   * \n",
      "  * * \n",
      " * * * \n",
      "* * * * \n"
     ]
    }
   ],
   "source": [
    "# Q. Write a program to display *'s in pyramid style(also known as equivalent triangle)\n",
    "n = int(input(\"Enter number of rows:\")) \n",
    "for i in range(1,n+1): \n",
    "    print(\" \" * (n-i),end=\"\") \n",
    "    print(\"* \"*i)"
   ]
  }
 ],
 "metadata": {
  "kernelspec": {
   "display_name": "Python 3",
   "language": "python",
   "name": "python3"
  },
  "language_info": {
   "codemirror_mode": {
    "name": "ipython",
    "version": 3
   },
   "file_extension": ".py",
   "mimetype": "text/x-python",
   "name": "python",
   "nbconvert_exporter": "python",
   "pygments_lexer": "ipython3",
   "version": "3.11.1"
  },
  "orig_nbformat": 4
 },
 "nbformat": 4,
 "nbformat_minor": 2
}
