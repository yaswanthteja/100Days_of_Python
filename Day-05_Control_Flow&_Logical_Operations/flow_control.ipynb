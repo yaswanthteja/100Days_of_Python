{
 "cells": [
  {
   "cell_type": "code",
   "execution_count": null,
   "metadata": {},
   "outputs": [],
   "source": []
  },
  {
   "attachments": {},
   "cell_type": "markdown",
   "metadata": {},
   "source": [
    "# if statement \n",
    "\n",
    "syntax:\n",
    "```\n",
    "if condition/test_expression:\n",
    "    statement1\n",
    "    statement2\n",
    "# rest of statement\n",
    "```"
   ]
  },
  {
   "cell_type": "code",
   "execution_count": 1,
   "metadata": {},
   "outputs": [
    {
     "name": "stdout",
     "output_type": "stream",
     "text": [
      "b is greater than a\n"
     ]
    }
   ],
   "source": [
    "# if \n",
    "\n",
    "a=10\n",
    "b=20\n",
    "if a>b:\n",
    "    print(a)\n",
    "print(\"b is greater than a\") #rest of statement"
   ]
  },
  {
   "cell_type": "code",
   "execution_count": 3,
   "metadata": {},
   "outputs": [
    {
     "name": "stdout",
     "output_type": "stream",
     "text": [
      "This is true\n",
      "rest of statements\n"
     ]
    }
   ],
   "source": [
    "if True:\n",
    "    print(\"This is true\")\n",
    "print(\"rest of statements\")"
   ]
  },
  {
   "cell_type": "code",
   "execution_count": 4,
   "metadata": {},
   "outputs": [
    {
     "name": "stdout",
     "output_type": "stream",
     "text": [
      "rest of statements\n"
     ]
    }
   ],
   "source": [
    "if False:\n",
    "    print(\"This is true\")\n",
    "print(\"rest of statements\")"
   ]
  },
  {
   "cell_type": "code",
   "execution_count": 6,
   "metadata": {},
   "outputs": [
    {
     "name": "stdout",
     "output_type": "stream",
     "text": [
      "condition is false\n"
     ]
    }
   ],
   "source": [
    "if 3<4 and 4>5:\n",
    "    print(\"true\")\n",
    "print(\"condition is false\")#rest of statement\n"
   ]
  },
  {
   "cell_type": "code",
   "execution_count": 7,
   "metadata": {},
   "outputs": [
    {
     "name": "stdout",
     "output_type": "stream",
     "text": [
      "regular code\n"
     ]
    }
   ],
   "source": [
    "if 0:      # except 0 all numbers are true\n",
    "    print(\"True\")\n",
    "print(\"regular code\")"
   ]
  },
  {
   "cell_type": "code",
   "execution_count": 8,
   "metadata": {},
   "outputs": [
    {
     "name": "stdout",
     "output_type": "stream",
     "text": [
      "regular code\n"
     ]
    }
   ],
   "source": [
    "if None:\n",
    "    print(\"true\")\n",
    "print(\"regular code\")"
   ]
  },
  {
   "attachments": {},
   "cell_type": "markdown",
   "metadata": {},
   "source": []
  },
  {
   "attachments": {},
   "cell_type": "markdown",
   "metadata": {},
   "source": [
    "## if else\n",
    "\n",
    "syntax:\n",
    "```\n",
    "if condition:\n",
    "    statement1\n",
    "else:\n",
    "    statement2\n",
    "```"
   ]
  },
  {
   "cell_type": "code",
   "execution_count": 10,
   "metadata": {},
   "outputs": [
    {
     "name": "stdout",
     "output_type": "stream",
     "text": [
      "Positive number\n"
     ]
    }
   ],
   "source": [
    "# Write a program to check the input number is positive or negative.\n",
    "\n",
    "number=int(input(\"Enter the number: \"))\n",
    "if number>0:\n",
    "    print(\"Positive number\")\n",
    "else:\n",
    "    print(\"Negative number\")"
   ]
  },
  {
   "cell_type": "code",
   "execution_count": 2,
   "metadata": {},
   "outputs": [
    {
     "name": "stdout",
     "output_type": "stream",
     "text": [
      "even number\n"
     ]
    }
   ],
   "source": [
    "# example2 Write a Python program to check whether a number is even or odd.\n",
    "\n",
    "\n",
    "number=int(input(\"Enter a number :\" ))\n",
    "if number%2==0:\n",
    "    print(\"even number\")\n",
    "else:\n",
    "    print(\"odd number\")\n",
    "\n",
    "# even number are easily divided by 2  and gives remainder 0 ex: 2,4,6,8,10--\n",
    "# odd number are not easily divided by 2 and gives remainder 1 ex: 1,3,5,7,9--"
   ]
  },
  {
   "cell_type": "code",
   "execution_count": 9,
   "metadata": {},
   "outputs": [
    {
     "name": "stdout",
     "output_type": "stream",
     "text": [
      "malayalam is palindrome\n"
     ]
    }
   ],
   "source": [
    "# Write a Python program to check whether a given string is a palindrome or not.\n",
    "\n",
    "word=input(\"Enter a word :\")\n",
    "if word ==word[::-1]:          # checking if the string is equal to its reverse\n",
    "    print(word ,\"is palindrome\")\n",
    "else:\n",
    "    print(word ,\"is not palindrome\")"
   ]
  },
  {
   "cell_type": "code",
   "execution_count": null,
   "metadata": {},
   "outputs": [],
   "source": []
  },
  {
   "attachments": {},
   "cell_type": "markdown",
   "metadata": {},
   "source": [
    "# Nested if\n",
    "\n",
    "Syntax\n",
    "```\n",
    "if condition:\n",
    "    statement\n",
    "    statement\n",
    "    if condition:\n",
    "        statement\n",
    "        statement\n",
    "    else:\n",
    "        statement\n",
    "else:\n",
    "        statement\n",
    "# rest of code\n",
    "```\n"
   ]
  },
  {
   "cell_type": "code",
   "execution_count": 1,
   "metadata": {},
   "outputs": [
    {
     "name": "stdout",
     "output_type": "stream",
     "text": [
      "The number is positive\n"
     ]
    }
   ],
   "source": [
    "# program for positive and negative numbers\n",
    "\n",
    "number=float(input(\"Enter a number:\"))\n",
    "if number>=0:\n",
    "    if number==0:\n",
    "        print(\"Zero\")\n",
    "    else:\n",
    "        print(\"The number is positive\")\n",
    "else:\n",
    "    print(\"The Number is negative\")"
   ]
  },
  {
   "attachments": {},
   "cell_type": "markdown",
   "metadata": {},
   "source": []
  },
  {
   "attachments": {},
   "cell_type": "markdown",
   "metadata": {},
   "source": [
    "# if elif else\n",
    "\n",
    "Syntax\n",
    "```\n",
    "if condition:\n",
    "    statement\n",
    "elif condition:\n",
    "    statement\n",
    "else:\n",
    "    statement\n",
    "# rest of code\n",
    "```"
   ]
  },
  {
   "attachments": {},
   "cell_type": "markdown",
   "metadata": {},
   "source": [
    "\n",
    "\n"
   ]
  },
  {
   "cell_type": "code",
   "execution_count": 2,
   "metadata": {},
   "outputs": [
    {
     "name": "stdout",
     "output_type": "stream",
     "text": [
      "200.0\n"
     ]
    }
   ],
   "source": [
    "# example write a program \n",
    "\n",
    "number1=float(input(\"Enter a number:\"))\n",
    "number2=float(input(\"Enter a number:\"))\n",
    "operator=input(\"Enter your operator, +,-,*,/,% : \")\n",
    "if operator =='+':\n",
    "    print(number1+number2)\n",
    "elif operator =='-':\n",
    "    print(number1-number2)\n",
    "elif operator =='*':\n",
    "    print(number1*number2)\n",
    "elif operator =='/':\n",
    "    print(number1/number2)\n",
    "elif operator =='%':\n",
    "    print(number1-number2)\n",
    "else:\n",
    "    print(\"Enter valid operator\")\n"
   ]
  },
  {
   "cell_type": "code",
   "execution_count": 4,
   "metadata": {},
   "outputs": [
    {
     "name": "stdout",
     "output_type": "stream",
     "text": [
      "B grade\n"
     ]
    }
   ],
   "source": [
    "# garding\n",
    "\n",
    "marks=float(input(\"Enter your marks:\"))\n",
    "if marks>85 and marks<=100:\n",
    "    print(\"A grade\")\n",
    "elif marks>70 and marks<=85:\n",
    "    print(\"B grade\")\n",
    "elif marks>55 and marks<=70:\n",
    "    print(\"c grade\")\n",
    "elif marks>40 and marks<=55:\n",
    "    print(\"D grade\")\n",
    "elif marks>30 and marks<=40:\n",
    "    print(\"E grade\")\n",
    "else:\n",
    "    print(\"Fail\")\n",
    "\n"
   ]
  },
  {
   "cell_type": "code",
   "execution_count": null,
   "metadata": {},
   "outputs": [],
   "source": [
    "# Write a Python program to find the factorial of a number.\n",
    "num=int(input(\"Enter a number :\"))\n",
    "factorial=1\n",
    "if num<0:\n",
    "    print(\"No factorial\")\n",
    "elif num==0:\n",
    "    print(\"factorial of 0 is 1\")\n",
    "else:\n",
    "    for i in range(1,num+1):\n",
    "        factorial=factorial*i\n",
    "    print(\"factorial of\",num,\"is\",factorial)\n",
    "# factorial is the product of an integer and all the integers below ex 5 5!=5*4*3*2*1\n"
   ]
  },
  {
   "cell_type": "code",
   "execution_count": null,
   "metadata": {},
   "outputs": [],
   "source": []
  },
  {
   "cell_type": "code",
   "execution_count": null,
   "metadata": {},
   "outputs": [],
   "source": []
  },
  {
   "cell_type": "code",
   "execution_count": null,
   "metadata": {},
   "outputs": [],
   "source": []
  },
  {
   "cell_type": "code",
   "execution_count": null,
   "metadata": {},
   "outputs": [],
   "source": []
  },
  {
   "attachments": {},
   "cell_type": "markdown",
   "metadata": {},
   "source": [
    "# Iterative statements\n",
    "1. while loop\n",
    "2. for loop\n",
    "\n",
    "## While loop\n",
    "\n",
    "Syntax:\n",
    "```\n",
    "while condition:\n",
    "    statement\n",
    "    statement\n",
    "    statement\n",
    "```"
   ]
  },
  {
   "cell_type": "code",
   "execution_count": 6,
   "metadata": {},
   "outputs": [
    {
     "name": "stdout",
     "output_type": "stream",
     "text": [
      "1\n",
      "2\n",
      "3\n",
      "4\n",
      "5\n",
      "6\n",
      "7\n",
      "8\n",
      "9\n",
      "10\n"
     ]
    }
   ],
   "source": [
    " x=1 \n",
    " while x <=10: \n",
    "    print(x) \n",
    "    x=x+1 "
   ]
  },
  {
   "cell_type": "code",
   "execution_count": null,
   "metadata": {},
   "outputs": [],
   "source": []
  },
  {
   "cell_type": "code",
   "execution_count": null,
   "metadata": {},
   "outputs": [],
   "source": []
  },
  {
   "cell_type": "code",
   "execution_count": null,
   "metadata": {},
   "outputs": [],
   "source": []
  },
  {
   "cell_type": "code",
   "execution_count": null,
   "metadata": {},
   "outputs": [],
   "source": []
  }
 ],
 "metadata": {
  "kernelspec": {
   "display_name": "Python 3",
   "language": "python",
   "name": "python3"
  },
  "language_info": {
   "codemirror_mode": {
    "name": "ipython",
    "version": 3
   },
   "file_extension": ".py",
   "mimetype": "text/x-python",
   "name": "python",
   "nbconvert_exporter": "python",
   "pygments_lexer": "ipython3",
   "version": "3.11.1"
  },
  "orig_nbformat": 4
 },
 "nbformat": 4,
 "nbformat_minor": 2
}
