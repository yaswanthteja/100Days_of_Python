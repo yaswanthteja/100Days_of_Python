{
 "cells": [
  {
   "cell_type": "code",
   "execution_count": null,
   "metadata": {},
   "outputs": [],
   "source": []
  },
  {
   "attachments": {},
   "cell_type": "markdown",
   "metadata": {},
   "source": [
    "# Tuples"
   ]
  },
  {
   "cell_type": "code",
   "execution_count": 2,
   "metadata": {},
   "outputs": [],
   "source": [
    "''' A tuple is an immutable list of values. Tuples are one of Python's simplest and most common collection types, and\n",
    "can be created with the comma operator (value = 1, 2, 3).\n",
    "'''\n",
    "\n",
    "# Syntactically, a tuple is a comma-separated list of values:\n",
    "t = 'a', 'b', 'c', 'd', 'e'\n",
    "\n",
    "# Although not necessary, it is common to enclose tuples in parentheses:\n",
    "u = ('a', 'b', 'c', 'd', 'e')\n",
    "\n"
   ]
  },
  {
   "cell_type": "code",
   "execution_count": 3,
   "metadata": {},
   "outputs": [
    {
     "data": {
      "text/plain": [
       "tuple"
      ]
     },
     "execution_count": 3,
     "metadata": {},
     "output_type": "execute_result"
    }
   ],
   "source": [
    "#Create an empty tuple with parentheses:\n",
    "t0 = ()\n",
    "type(t0) # <type 'tuple'>"
   ]
  },
  {
   "cell_type": "code",
   "execution_count": 4,
   "metadata": {},
   "outputs": [
    {
     "data": {
      "text/plain": [
       "tuple"
      ]
     },
     "execution_count": 4,
     "metadata": {},
     "output_type": "execute_result"
    }
   ],
   "source": [
    "# To create a tuple with a single element, you have to include a final comma:\n",
    "t1 = 'a',\n",
    "type(t1) # <type 'tuple'>"
   ]
  },
  {
   "cell_type": "code",
   "execution_count": 5,
   "metadata": {},
   "outputs": [
    {
     "data": {
      "text/plain": [
       "str"
      ]
     },
     "execution_count": 5,
     "metadata": {},
     "output_type": "execute_result"
    }
   ],
   "source": [
    "# Note that a single value in parentheses is not a tuple:\n",
    "t2 = ('a')\n",
    "type(t2) # <type 'str'>\n"
   ]
  },
  {
   "cell_type": "code",
   "execution_count": 6,
   "metadata": {},
   "outputs": [
    {
     "data": {
      "text/plain": [
       "tuple"
      ]
     },
     "execution_count": 6,
     "metadata": {},
     "output_type": "execute_result"
    }
   ],
   "source": [
    "# To create a singleton tuple it is necessary to have a trailing comma.\n",
    "t2 = ('a',)\n",
    "type(t2) # <type 'tuple'>"
   ]
  },
  {
   "cell_type": "code",
   "execution_count": 7,
   "metadata": {},
   "outputs": [
    {
     "name": "stdout",
     "output_type": "stream",
     "text": [
      "('l', 'u', 'p', 'i', 'n', 's')\n",
      "(0, 1, 2)\n"
     ]
    }
   ],
   "source": [
    "# Another way to create a tuple is the built-in function tuple.\n",
    "t = tuple('lupins')\n",
    "print(t) # ('l', 'u', 'p', 'i', 'n', 's')\n",
    "t = tuple(range(3))\n",
    "print(t) # (0, 1, 2)"
   ]
  },
  {
   "cell_type": "code",
   "execution_count": 9,
   "metadata": {},
   "outputs": [
    {
     "ename": "TypeError",
     "evalue": "'tuple' object does not support item assignment",
     "output_type": "error",
     "traceback": [
      "\u001b[1;31m---------------------------------------------------------------------------\u001b[0m",
      "\u001b[1;31mTypeError\u001b[0m                                 Traceback (most recent call last)",
      "Cell \u001b[1;32mIn[9], line 3\u001b[0m\n\u001b[0;32m      1\u001b[0m \u001b[39m# Tuples are immutable\u001b[39;00m\n\u001b[0;32m      2\u001b[0m t \u001b[39m=\u001b[39m (\u001b[39m1\u001b[39m, \u001b[39m4\u001b[39m, \u001b[39m9\u001b[39m)\n\u001b[1;32m----> 3\u001b[0m t[\u001b[39m0\u001b[39;49m] \u001b[39m=\u001b[39m \u001b[39m2\u001b[39m\n",
      "\u001b[1;31mTypeError\u001b[0m: 'tuple' object does not support item assignment"
     ]
    }
   ],
   "source": [
    "# Tuples are immutable\n",
    "t = (1, 4, 9)\n",
    "t[0] = 2"
   ]
  },
  {
   "cell_type": "code",
   "execution_count": 11,
   "metadata": {},
   "outputs": [
    {
     "name": "stdout",
     "output_type": "stream",
     "text": [
      "10\n",
      "60\n"
     ]
    }
   ],
   "source": [
    "'''Accessing elements of tuple:\n",
    "We can access either by index or by slice operator\n",
    "'''\n",
    "# 1. By using index:\n",
    "\n",
    "t=(10,20,30,40,50,60) \n",
    "print(t[0]) #10 \n",
    "print(t[-1]) #60 \n",
    "#print(t[100]) IndexError: tuple index out of range "
   ]
  },
  {
   "cell_type": "code",
   "execution_count": 12,
   "metadata": {},
   "outputs": [
    {
     "name": "stdout",
     "output_type": "stream",
     "text": [
      "(30, 40, 50)\n",
      "(30, 40, 50, 60)\n",
      "(10, 30, 50)\n"
     ]
    }
   ],
   "source": [
    "# 2. By using slice operator:\n",
    "\n",
    "t=(10,20,30,40,50,60) \n",
    "print(t[2:5]) \n",
    "print(t[2:100]) \n",
    "print(t[::2]) "
   ]
  },
  {
   "cell_type": "code",
   "execution_count": null,
   "metadata": {},
   "outputs": [],
   "source": []
  },
  {
   "cell_type": "code",
   "execution_count": null,
   "metadata": {},
   "outputs": [],
   "source": []
  },
  {
   "attachments": {},
   "cell_type": "markdown",
   "metadata": {},
   "source": [
    "### Mathematical operators for tuple:\n",
    "- We can apply + and * operators for tuple"
   ]
  },
  {
   "cell_type": "code",
   "execution_count": 13,
   "metadata": {},
   "outputs": [
    {
     "name": "stdout",
     "output_type": "stream",
     "text": [
      "(10, 20, 30, 40, 50, 60)\n"
     ]
    }
   ],
   "source": [
    "\n",
    "#1. Concatenation Operator(+):\n",
    "t1=(10,20,30) \n",
    "t2=(40,50,60) \n",
    "t3=t1+t2 \n",
    "print(t3) # (10,20,30,40,50,60"
   ]
  },
  {
   "cell_type": "code",
   "execution_count": 14,
   "metadata": {},
   "outputs": [
    {
     "name": "stdout",
     "output_type": "stream",
     "text": [
      "(10, 20, 30, 10, 20, 30, 10, 20, 30)\n"
     ]
    }
   ],
   "source": [
    "# 2. Multiplication operator or repetition operator(*)\n",
    "t1=(10,20,30) \n",
    "t2=t1*3 \n",
    "print(t2) #(10,20,30,10,20,30,10,20,30) "
   ]
  },
  {
   "cell_type": "code",
   "execution_count": 16,
   "metadata": {},
   "outputs": [
    {
     "name": "stdout",
     "output_type": "stream",
     "text": [
      "4\n"
     ]
    }
   ],
   "source": [
    "'''\n",
    "1. len()\n",
    " To return number of elements present in the tuple\n",
    "'''\n",
    "t=(10,20,30,40)\n",
    "print(len(t)) #4"
   ]
  },
  {
   "cell_type": "code",
   "execution_count": 18,
   "metadata": {},
   "outputs": [
    {
     "name": "stdout",
     "output_type": "stream",
     "text": [
      "3\n"
     ]
    }
   ],
   "source": [
    "'''2. count()\n",
    " To return number of occurrences of given element in the tuple\n",
    "'''\n",
    "t=(10,20,10,10,20)\n",
    "print(t.count(10)) #3"
   ]
  },
  {
   "cell_type": "code",
   "execution_count": 20,
   "metadata": {},
   "outputs": [
    {
     "name": "stdout",
     "output_type": "stream",
     "text": [
      "0\n"
     ]
    }
   ],
   "source": [
    "'''3. index()\n",
    " returns index of first occurrence of the given element.\n",
    " If the specified element is not available then we will get ValueError.\n",
    "'''\n",
    "t=(10,20,10,10,20)\n",
    "print(t.index(10)) #0\n",
    "#print(t.index(30)) ValueError: tuple.index(x): x not in tuple"
   ]
  },
  {
   "cell_type": "code",
   "execution_count": 21,
   "metadata": {},
   "outputs": [
    {
     "name": "stdout",
     "output_type": "stream",
     "text": [
      "[10, 20, 30, 40]\n",
      "(40, 10, 30, 20)\n"
     ]
    }
   ],
   "source": [
    "'''\n",
    "4. sorted()\n",
    " To sort elements based on default natural sorting order\n",
    "'''\n",
    "t=(40,10,30,20) \n",
    "t1=sorted(t) \n",
    "print(t1) \n",
    "print(t) \n"
   ]
  },
  {
   "cell_type": "code",
   "execution_count": 22,
   "metadata": {},
   "outputs": [
    {
     "name": "stdout",
     "output_type": "stream",
     "text": [
      "10\n",
      "40\n"
     ]
    }
   ],
   "source": [
    "'''\n",
    "5. min() and max() functions:\n",
    "These functions return min and max values according to default natural sorting order.\n",
    "'''\n",
    "t=(40,10,30,20) \n",
    "print(min(t)) #10 \n",
    "print(max(t)) #40"
   ]
  },
  {
   "cell_type": "code",
   "execution_count": 25,
   "metadata": {},
   "outputs": [
    {
     "name": "stdout",
     "output_type": "stream",
     "text": [
      "(10, 20, 30, 40)\n"
     ]
    }
   ],
   "source": [
    "'''\n",
    "Tuple Packing and Unpacking:\n",
    "\n",
    "We can create a tuple by packing a group of variables.\n",
    "'''\n",
    "a=10\n",
    "b=20\n",
    "c=30\n",
    "d=40\n",
    "t=a,b,c,d\n",
    "print(t) #(10, 20, 30, 40)\n",
    "#Here a,b,c,d are packed into a tuple t. This is nothing but tuple packing.\n"
   ]
  },
  {
   "cell_type": "code",
   "execution_count": 26,
   "metadata": {},
   "outputs": [
    {
     "name": "stdout",
     "output_type": "stream",
     "text": [
      "a= 10 b= 20 c= 30 d= 40\n"
     ]
    }
   ],
   "source": [
    "'''\n",
    "Tuple unpacking is the reverse process of tuple packing\n",
    "We can unpack a tuple and assign its values to different variables\n",
    "'''\n",
    "t=(10,20,30,40) \n",
    "a,b,c,d=t \n",
    "print(\"a=\",a,\"b=\",b,\"c=\",c,\"d=\",d) \n",
    "\n"
   ]
  },
  {
   "cell_type": "code",
   "execution_count": 29,
   "metadata": {},
   "outputs": [
    {
     "name": "stdout",
     "output_type": "stream",
     "text": [
      "The Sum= 210\n",
      "The Average= 35.0\n"
     ]
    }
   ],
   "source": [
    "#. Write a program to take a tuple of numbers from the keyboard and print its sum and average?\n",
    "\n",
    "t=eval(input(\"Enter Tuple of Numbers:\")) #10,20,30,40,50,60\n",
    "l=len(t) \n",
    "sum=0 \n",
    "for x in t: \n",
    "    sum=sum+x \n",
    "print(\"The Sum=\",sum) \n",
    "print(\"The Average=\",sum/l) "
   ]
  },
  {
   "cell_type": "code",
   "execution_count": null,
   "metadata": {},
   "outputs": [],
   "source": []
  },
  {
   "cell_type": "code",
   "execution_count": null,
   "metadata": {},
   "outputs": [],
   "source": []
  },
  {
   "cell_type": "code",
   "execution_count": null,
   "metadata": {},
   "outputs": [],
   "source": []
  }
 ],
 "metadata": {
  "kernelspec": {
   "display_name": "Python 3",
   "language": "python",
   "name": "python3"
  },
  "language_info": {
   "codemirror_mode": {
    "name": "ipython",
    "version": 3
   },
   "file_extension": ".py",
   "mimetype": "text/x-python",
   "name": "python",
   "nbconvert_exporter": "python",
   "pygments_lexer": "ipython3",
   "version": "3.11.1"
  },
  "orig_nbformat": 4
 },
 "nbformat": 4,
 "nbformat_minor": 2
}
