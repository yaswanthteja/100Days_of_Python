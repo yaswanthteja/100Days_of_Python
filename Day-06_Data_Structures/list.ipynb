{
 "cells": [
  {
   "cell_type": "code",
   "execution_count": null,
   "metadata": {},
   "outputs": [],
   "source": []
  },
  {
   "attachments": {},
   "cell_type": "markdown",
   "metadata": {},
   "source": []
  },
  {
   "cell_type": "code",
   "execution_count": null,
   "metadata": {},
   "outputs": [],
   "source": []
  },
  {
   "cell_type": "code",
   "execution_count": null,
   "metadata": {},
   "outputs": [],
   "source": []
  },
  {
   "cell_type": "code",
   "execution_count": 11,
   "metadata": {},
   "outputs": [
    {
     "name": "stdout",
     "output_type": "stream",
     "text": [
      "[]\n",
      "<class 'list'>\n"
     ]
    }
   ],
   "source": [
    "list1=[] \n",
    "print(list1) \n",
    "print(type(list1))"
   ]
  },
  {
   "cell_type": "code",
   "execution_count": 2,
   "metadata": {},
   "outputs": [
    {
     "name": "stdout",
     "output_type": "stream",
     "text": [
      "Alice\n",
      "Craig\n",
      "Eric\n",
      "Bob\n",
      "['Ann', 'Bob', 'Craig', 'Diana', 'Eric']\n"
     ]
    }
   ],
   "source": [
    "names = ['Alice', 'Bob', 'Craig', 'Diana', 'Eric']\n",
    "print(names[0]) # Alice\n",
    "print(names[2]) # Craig\n",
    "print(names[-1]) # Eric\n",
    "print(names[-4]) # Bob\n",
    "names[0] = 'Ann'\n",
    "print(names)\n"
   ]
  },
  {
   "cell_type": "code",
   "execution_count": 3,
   "metadata": {},
   "outputs": [
    {
     "name": "stdout",
     "output_type": "stream",
     "text": [
      "['Alice', 'Bob', 'Craig', 'Diana', 'Eric', 'Sia']\n"
     ]
    }
   ],
   "source": [
    "# Append object to end of list with L.append(object), returns None.\n",
    "names = ['Alice', 'Bob', 'Craig', 'Diana', 'Eric']\n",
    "names.append(\"Sia\")\n",
    "print(names)\n",
    "# Outputs ['Alice', 'Bob', 'Craig', 'Diana', 'Eric', 'Sia']\n"
   ]
  },
  {
   "cell_type": "code",
   "execution_count": 4,
   "metadata": {},
   "outputs": [
    {
     "name": "stdout",
     "output_type": "stream",
     "text": [
      "['Alice', 'Nikki', 'Bob', 'Craig', 'Diana', 'Eric', 'Sia']\n"
     ]
    }
   ],
   "source": [
    "#Add a new element to list at a specific index. L.insert(index, object)\n",
    "names.insert(1, \"Nikki\")\n",
    "print(names)\n",
    "# Outputs ['Alice', 'Nikki', 'Bob', 'Craig', 'Diana', 'Eric', 'Sia']\n"
   ]
  },
  {
   "cell_type": "code",
   "execution_count": 5,
   "metadata": {},
   "outputs": [
    {
     "name": "stdout",
     "output_type": "stream",
     "text": [
      "['Alice', 'Nikki', 'Craig', 'Diana', 'Eric', 'Sia']\n"
     ]
    }
   ],
   "source": [
    "#Remove the first occurrence of a value with L.remove(value), returns None\n",
    "names.remove(\"Bob\")\n",
    "print(names) # Outputs ['Alice', 'Nikki', 'Craig', 'Diana', 'Eric', 'Sia']\n"
   ]
  },
  {
   "cell_type": "code",
   "execution_count": 7,
   "metadata": {},
   "outputs": [
    {
     "data": {
      "text/plain": [
       "0"
      ]
     },
     "execution_count": 7,
     "metadata": {},
     "output_type": "execute_result"
    }
   ],
   "source": [
    "#Get the index in the list of the first item whose value is x. It will show an error if there is no such item.\n",
    "names.index(\"Alice\")"
   ]
  },
  {
   "cell_type": "code",
   "execution_count": 8,
   "metadata": {},
   "outputs": [
    {
     "data": {
      "text/plain": [
       "6"
      ]
     },
     "execution_count": 8,
     "metadata": {},
     "output_type": "execute_result"
    }
   ],
   "source": [
    "#Count length of list\n",
    "len(names)"
   ]
  },
  {
   "cell_type": "code",
   "execution_count": 9,
   "metadata": {},
   "outputs": [
    {
     "data": {
      "text/plain": [
       "3"
      ]
     },
     "execution_count": 9,
     "metadata": {},
     "output_type": "execute_result"
    }
   ],
   "source": [
    "# count occurrence of any item in list\n",
    "a = [1, 1, 1, 2, 3, 4]\n",
    "a.count(1)"
   ]
  },
  {
   "cell_type": "code",
   "execution_count": 10,
   "metadata": {},
   "outputs": [
    {
     "data": {
      "text/plain": [
       "[4, 3, 2, 1, 1, 1]"
      ]
     },
     "execution_count": 10,
     "metadata": {},
     "output_type": "execute_result"
    }
   ],
   "source": [
    "# Reverse the list\n",
    "a.reverse()\n",
    "[4, 3, 2, 1, 1, 1]\n",
    "# or\n",
    "a[::-1]\n",
    "[4, 3, 2, 1, 1, 1]"
   ]
  },
  {
   "cell_type": "code",
   "execution_count": 11,
   "metadata": {},
   "outputs": [
    {
     "data": {
      "text/plain": [
       "'Sia'"
      ]
     },
     "execution_count": 11,
     "metadata": {},
     "output_type": "execute_result"
    }
   ],
   "source": [
    "#Remove and return item at index (defaults to the last item) with L.pop([index]), returns the item\n",
    "names.pop() # Outputs 'Sia'"
   ]
  },
  {
   "cell_type": "code",
   "execution_count": 13,
   "metadata": {},
   "outputs": [
    {
     "name": "stdout",
     "output_type": "stream",
     "text": [
      "1\n",
      "2\n",
      "8\n",
      "6\n",
      "9\n",
      "4\n"
     ]
    }
   ],
   "source": [
    "#You can iterate over the list elements like below:\n",
    "my_list=[1,2,8,6,9,4]\n",
    "for element in my_list:\n",
    " print (element)\n"
   ]
  },
  {
   "cell_type": "code",
   "execution_count": 14,
   "metadata": {},
   "outputs": [
    {
     "name": "stdout",
     "output_type": "stream",
     "text": [
      "0\n",
      "1\n",
      "2\n",
      "3\n",
      "4\n",
      "5\n",
      "6\n",
      "7\n",
      "8\n",
      "9\n",
      "10\n"
     ]
    }
   ],
   "source": [
    "#Traversing the elements of List:\n",
    "# The sequential access of each element in the list is called traversal.\n",
    "# By using while loop:\n",
    "n=[0,1,2,3,4,5,6,7,8,9,10] \n",
    "i=0 \n",
    "while i<len(n): \n",
    "    print(n[i]) \n",
    "    i=i+1 "
   ]
  },
  {
   "cell_type": "code",
   "execution_count": 15,
   "metadata": {},
   "outputs": [
    {
     "name": "stdout",
     "output_type": "stream",
     "text": [
      "0\n",
      "1\n",
      "2\n",
      "3\n",
      "4\n",
      "5\n",
      "6\n",
      "7\n",
      "8\n",
      "9\n",
      "10\n"
     ]
    }
   ],
   "source": [
    "#By using for loop:\n",
    "n=[0,1,2,3,4,5,6,7,8,9,10] \n",
    "for n1 in n: \n",
    "    print(n1)"
   ]
  },
  {
   "cell_type": "code",
   "execution_count": 16,
   "metadata": {},
   "outputs": [
    {
     "name": "stdout",
     "output_type": "stream",
     "text": [
      "A is available at positive index:  0 and at negative index:  -3\n",
      "B is available at positive index:  1 and at negative index:  -2\n",
      "C is available at positive index:  2 and at negative index:  -1\n"
     ]
    }
   ],
   "source": [
    "# To display elements by index wise:\n",
    "l=[\"A\",\"B\",\"C\"] \n",
    "x=len(l) \n",
    "for i in range(x): \n",
    "    print(l[i],\"is available at positive index: \",i,\"and at negative index: \",i-x) "
   ]
  },
  {
   "cell_type": "code",
   "execution_count": null,
   "metadata": {},
   "outputs": [],
   "source": []
  }
 ],
 "metadata": {
  "kernelspec": {
   "display_name": "Python 3",
   "language": "python",
   "name": "python3"
  },
  "language_info": {
   "codemirror_mode": {
    "name": "ipython",
    "version": 3
   },
   "file_extension": ".py",
   "mimetype": "text/x-python",
   "name": "python",
   "nbconvert_exporter": "python",
   "pygments_lexer": "ipython3",
   "version": "3.11.1"
  },
  "orig_nbformat": 4
 },
 "nbformat": 4,
 "nbformat_minor": 2
}
