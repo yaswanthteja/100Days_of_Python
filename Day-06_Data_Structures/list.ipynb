{
 "cells": [
  {
   "cell_type": "code",
   "execution_count": null,
   "metadata": {},
   "outputs": [],
   "source": []
  },
  {
   "attachments": {},
   "cell_type": "markdown",
   "metadata": {},
   "source": []
  },
  {
   "cell_type": "code",
   "execution_count": null,
   "metadata": {},
   "outputs": [],
   "source": []
  },
  {
   "cell_type": "code",
   "execution_count": null,
   "metadata": {},
   "outputs": [],
   "source": []
  },
  {
   "cell_type": "code",
   "execution_count": 11,
   "metadata": {},
   "outputs": [
    {
     "name": "stdout",
     "output_type": "stream",
     "text": [
      "[]\n",
      "<class 'list'>\n"
     ]
    }
   ],
   "source": [
    "list1=[] \n",
    "print(list1) \n",
    "print(type(list1))"
   ]
  },
  {
   "cell_type": "code",
   "execution_count": 2,
   "metadata": {},
   "outputs": [
    {
     "name": "stdout",
     "output_type": "stream",
     "text": [
      "Alice\n",
      "Craig\n",
      "Eric\n",
      "Bob\n",
      "['Ann', 'Bob', 'Craig', 'Diana', 'Eric']\n"
     ]
    }
   ],
   "source": [
    "names = ['Alice', 'Bob', 'Craig', 'Diana', 'Eric']\n",
    "print(names[0]) # Alice\n",
    "print(names[2]) # Craig\n",
    "print(names[-1]) # Eric\n",
    "print(names[-4]) # Bob\n",
    "names[0] = 'Ann'\n",
    "print(names)\n"
   ]
  },
  {
   "cell_type": "code",
   "execution_count": 3,
   "metadata": {},
   "outputs": [
    {
     "name": "stdout",
     "output_type": "stream",
     "text": [
      "['Alice', 'Bob', 'Craig', 'Diana', 'Eric', 'Sia']\n"
     ]
    }
   ],
   "source": [
    "# Append object to end of list with L.append(object), returns None.\n",
    "names = ['Alice', 'Bob', 'Craig', 'Diana', 'Eric']\n",
    "names.append(\"Sia\")\n",
    "print(names)\n",
    "# Outputs ['Alice', 'Bob', 'Craig', 'Diana', 'Eric', 'Sia']\n"
   ]
  },
  {
   "cell_type": "code",
   "execution_count": 4,
   "metadata": {},
   "outputs": [
    {
     "name": "stdout",
     "output_type": "stream",
     "text": [
      "['Alice', 'Nikki', 'Bob', 'Craig', 'Diana', 'Eric', 'Sia']\n"
     ]
    }
   ],
   "source": [
    "#Add a new element to list at a specific index. L.insert(index, object)\n",
    "names.insert(1, \"Nikki\")\n",
    "print(names)\n",
    "# Outputs ['Alice', 'Nikki', 'Bob', 'Craig', 'Diana', 'Eric', 'Sia']\n"
   ]
  },
  {
   "cell_type": "code",
   "execution_count": 5,
   "metadata": {},
   "outputs": [
    {
     "name": "stdout",
     "output_type": "stream",
     "text": [
      "['Alice', 'Nikki', 'Craig', 'Diana', 'Eric', 'Sia']\n"
     ]
    }
   ],
   "source": [
    "#Remove the first occurrence of a value with L.remove(value), returns None\n",
    "names.remove(\"Bob\")\n",
    "print(names) # Outputs ['Alice', 'Nikki', 'Craig', 'Diana', 'Eric', 'Sia']\n"
   ]
  },
  {
   "cell_type": "code",
   "execution_count": 7,
   "metadata": {},
   "outputs": [
    {
     "data": {
      "text/plain": [
       "0"
      ]
     },
     "execution_count": 7,
     "metadata": {},
     "output_type": "execute_result"
    }
   ],
   "source": [
    "#Get the index in the list of the first item whose value is x. It will show an error if there is no such item.\n",
    "names.index(\"Alice\")"
   ]
  },
  {
   "cell_type": "code",
   "execution_count": 8,
   "metadata": {},
   "outputs": [
    {
     "data": {
      "text/plain": [
       "6"
      ]
     },
     "execution_count": 8,
     "metadata": {},
     "output_type": "execute_result"
    }
   ],
   "source": [
    "#Count length of list\n",
    "len(names)"
   ]
  },
  {
   "cell_type": "code",
   "execution_count": 9,
   "metadata": {},
   "outputs": [
    {
     "data": {
      "text/plain": [
       "3"
      ]
     },
     "execution_count": 9,
     "metadata": {},
     "output_type": "execute_result"
    }
   ],
   "source": [
    "# count occurrence of any item in list\n",
    "a = [1, 1, 1, 2, 3, 4]\n",
    "a.count(1)"
   ]
  },
  {
   "cell_type": "code",
   "execution_count": 10,
   "metadata": {},
   "outputs": [
    {
     "data": {
      "text/plain": [
       "[4, 3, 2, 1, 1, 1]"
      ]
     },
     "execution_count": 10,
     "metadata": {},
     "output_type": "execute_result"
    }
   ],
   "source": [
    "# Reverse the list\n",
    "a.reverse()\n",
    "[4, 3, 2, 1, 1, 1]\n",
    "# or\n",
    "a[::-1]\n",
    "[4, 3, 2, 1, 1, 1]"
   ]
  },
  {
   "cell_type": "code",
   "execution_count": 11,
   "metadata": {},
   "outputs": [
    {
     "data": {
      "text/plain": [
       "'Sia'"
      ]
     },
     "execution_count": 11,
     "metadata": {},
     "output_type": "execute_result"
    }
   ],
   "source": [
    "#Remove and return item at index (defaults to the last item) with L.pop([index]), returns the item\n",
    "names.pop() # Outputs 'Sia'"
   ]
  },
  {
   "cell_type": "code",
   "execution_count": 13,
   "metadata": {},
   "outputs": [
    {
     "name": "stdout",
     "output_type": "stream",
     "text": [
      "1\n",
      "2\n",
      "8\n",
      "6\n",
      "9\n",
      "4\n"
     ]
    }
   ],
   "source": [
    "#You can iterate over the list elements like below:\n",
    "my_list=[1,2,8,6,9,4]\n",
    "for element in my_list:\n",
    " print (element)\n"
   ]
  },
  {
   "cell_type": "code",
   "execution_count": 14,
   "metadata": {},
   "outputs": [
    {
     "name": "stdout",
     "output_type": "stream",
     "text": [
      "0\n",
      "1\n",
      "2\n",
      "3\n",
      "4\n",
      "5\n",
      "6\n",
      "7\n",
      "8\n",
      "9\n",
      "10\n"
     ]
    }
   ],
   "source": [
    "#Traversing the elements of List:\n",
    "# The sequential access of each element in the list is called traversal.\n",
    "# By using while loop:\n",
    "n=[0,1,2,3,4,5,6,7,8,9,10] \n",
    "i=0 \n",
    "while i<len(n): \n",
    "    print(n[i]) \n",
    "    i=i+1 "
   ]
  },
  {
   "cell_type": "code",
   "execution_count": 15,
   "metadata": {},
   "outputs": [
    {
     "name": "stdout",
     "output_type": "stream",
     "text": [
      "0\n",
      "1\n",
      "2\n",
      "3\n",
      "4\n",
      "5\n",
      "6\n",
      "7\n",
      "8\n",
      "9\n",
      "10\n"
     ]
    }
   ],
   "source": [
    "#By using for loop:\n",
    "n=[0,1,2,3,4,5,6,7,8,9,10] \n",
    "for n1 in n: \n",
    "    print(n1)"
   ]
  },
  {
   "cell_type": "code",
   "execution_count": 16,
   "metadata": {},
   "outputs": [
    {
     "name": "stdout",
     "output_type": "stream",
     "text": [
      "A is available at positive index:  0 and at negative index:  -3\n",
      "B is available at positive index:  1 and at negative index:  -2\n",
      "C is available at positive index:  2 and at negative index:  -1\n"
     ]
    }
   ],
   "source": [
    "# To display elements by index wise:\n",
    "l=[\"A\",\"B\",\"C\"] \n",
    "x=len(l) \n",
    "for i in range(x): \n",
    "    print(l[i],\"is available at positive index: \",i,\"and at negative index: \",i-x) "
   ]
  },
  {
   "cell_type": "code",
   "execution_count": null,
   "metadata": {},
   "outputs": [],
   "source": []
  },
  {
   "attachments": {},
   "cell_type": "markdown",
   "metadata": {},
   "source": [
    "## Manipulating elements of List"
   ]
  },
  {
   "cell_type": "code",
   "execution_count": null,
   "metadata": {},
   "outputs": [],
   "source": []
  },
  {
   "cell_type": "code",
   "execution_count": 1,
   "metadata": {},
   "outputs": [
    {
     "name": "stdout",
     "output_type": "stream",
     "text": [
      "['2', '6', '8', '5']\n",
      "['2', '6', '8', '5', 3]\n"
     ]
    }
   ],
   "source": [
    "# 1.append() function: We can use append() function to add item at the end of the list.\n",
    "\n",
    "list1=['2','6','8','5']\n",
    "print(list1)\n",
    "list1.append(3)\n",
    "print(list1)"
   ]
  },
  {
   "cell_type": "code",
   "execution_count": 2,
   "metadata": {},
   "outputs": [
    {
     "name": "stdout",
     "output_type": "stream",
     "text": [
      "['2', '6', '8', '5']\n",
      "['2', '6', '8', '5', 'sdc']\n"
     ]
    }
   ],
   "source": [
    "list1=['2','6','8','5']\n",
    "print(list1)\n",
    "list1.append('sdc')\n",
    "print(list1)"
   ]
  },
  {
   "cell_type": "code",
   "execution_count": 5,
   "metadata": {},
   "outputs": [
    {
     "name": "stdout",
     "output_type": "stream",
     "text": [
      "[0, 10, 20, 30, 40, 50, 60, 70, 80, 90, 100]\n"
     ]
    }
   ],
   "source": [
    "#To add all elements to list upto 100 which are divisible by 10\n",
    "list=[] \n",
    "for i in range(101): \n",
    "    if i%10==0: \n",
    "        list.append(i) \n",
    "print(list) "
   ]
  },
  {
   "cell_type": "code",
   "execution_count": null,
   "metadata": {},
   "outputs": [],
   "source": []
  },
  {
   "cell_type": "code",
   "execution_count": null,
   "metadata": {},
   "outputs": [],
   "source": []
  },
  {
   "cell_type": "code",
   "execution_count": 6,
   "metadata": {},
   "outputs": [
    {
     "name": "stdout",
     "output_type": "stream",
     "text": [
      "[1, 888, 2, 3, 4, 5]\n"
     ]
    }
   ],
   "source": [
    "#2. 2. insert() function:To insert item at specified index position\n",
    "\n",
    "''' \n",
    ": If the specified index is greater than max index then element will be inserted at last \n",
    "position.\n",
    "\n",
    " If the specified index is smaller than min index then element will be inserted at \n",
    "first position\n",
    "\n",
    "'''\n",
    "\n",
    "n=[1,2,3,4,5] \n",
    "n.insert(1,888) \n",
    "print(n) \n"
   ]
  },
  {
   "cell_type": "code",
   "execution_count": 7,
   "metadata": {},
   "outputs": [
    {
     "name": "stdout",
     "output_type": "stream",
     "text": [
      "[1, 2, 5, 7]\n",
      "[1, 2, 5, 7, 50]\n"
     ]
    }
   ],
   "source": [
    "n=[1,2,5,7]\n",
    "print(n)\n",
    "n.insert(10,50)  # 10 is index position\n",
    "print(n)\n"
   ]
  },
  {
   "cell_type": "code",
   "execution_count": 8,
   "metadata": {},
   "outputs": [
    {
     "name": "stdout",
     "output_type": "stream",
     "text": [
      "[1, 2, 5, 7]\n",
      "[50, 1, 2, 5, 7]\n"
     ]
    }
   ],
   "source": [
    "n=[1,2,5,7]\n",
    "print(n)\n",
    "n.insert(-10,50) # -10 is index position\n",
    "print(n)"
   ]
  },
  {
   "cell_type": "code",
   "execution_count": null,
   "metadata": {},
   "outputs": [],
   "source": []
  },
  {
   "cell_type": "code",
   "execution_count": null,
   "metadata": {},
   "outputs": [],
   "source": []
  },
  {
   "cell_type": "code",
   "execution_count": 10,
   "metadata": {},
   "outputs": [
    {
     "name": "stdout",
     "output_type": "stream",
     "text": [
      "['Chicken', 'Mutton', 'Fish', 'vegan', 'KF', 'FO']\n"
     ]
    }
   ],
   "source": [
    "'''3. extend() function:\n",
    "To add all items of one list to another list\n",
    "l1.extend(l2) \n",
    " all items present in l2 will be added to l1\n",
    "'''\n",
    "order1=[\"Chicken\",\"Mutton\",\"Fish\"] \n",
    "order2=[\"vegan\",\"KF\",\"FO\"] \n",
    "order1.extend(order2) \n",
    "print(order1) \n",
    "\n",
    "#Output: \n",
    "#['Chicken', 'Mutton', 'Fish', 'vegan', 'KF', 'FO']"
   ]
  },
  {
   "cell_type": "code",
   "execution_count": null,
   "metadata": {},
   "outputs": [],
   "source": []
  },
  {
   "cell_type": "code",
   "execution_count": null,
   "metadata": {},
   "outputs": [],
   "source": []
  },
  {
   "cell_type": "code",
   "execution_count": 11,
   "metadata": {},
   "outputs": [
    {
     "name": "stdout",
     "output_type": "stream",
     "text": [
      "[20, 10, 30]\n"
     ]
    }
   ],
   "source": [
    "'''\n",
    "4. remove() function:\n",
    "We can use this function to remove specified item from the list.If the item present \n",
    "multiple times then only first occurrence will be removed.\n",
    "'''\n",
    "n=[10,20,10,30] \n",
    "n.remove(10) \n",
    "print(n) "
   ]
  },
  {
   "cell_type": "code",
   "execution_count": 12,
   "metadata": {},
   "outputs": [
    {
     "ename": "ValueError",
     "evalue": "list.remove(x): x not in list",
     "output_type": "error",
     "traceback": [
      "\u001b[1;31m---------------------------------------------------------------------------\u001b[0m",
      "\u001b[1;31mValueError\u001b[0m                                Traceback (most recent call last)",
      "Cell \u001b[1;32mIn[12], line 2\u001b[0m\n\u001b[0;32m      1\u001b[0m n\u001b[39m=\u001b[39m[\u001b[39m10\u001b[39m,\u001b[39m20\u001b[39m,\u001b[39m10\u001b[39m,\u001b[39m30\u001b[39m] \n\u001b[1;32m----> 2\u001b[0m n\u001b[39m.\u001b[39;49mremove(\u001b[39m40\u001b[39;49m) \n\u001b[0;32m      3\u001b[0m \u001b[39mprint\u001b[39m(n) \n",
      "\u001b[1;31mValueError\u001b[0m: list.remove(x): x not in list"
     ]
    }
   ],
   "source": [
    "n=[10,20,10,30] \n",
    "n.remove(40) \n",
    "print(n) "
   ]
  },
  {
   "cell_type": "code",
   "execution_count": null,
   "metadata": {},
   "outputs": [],
   "source": []
  },
  {
   "cell_type": "code",
   "execution_count": null,
   "metadata": {},
   "outputs": [],
   "source": []
  },
  {
   "cell_type": "code",
   "execution_count": 13,
   "metadata": {},
   "outputs": [
    {
     "name": "stdout",
     "output_type": "stream",
     "text": [
      "40\n",
      "30\n",
      "[10, 20]\n"
     ]
    }
   ],
   "source": [
    "'''\n",
    "5. pop() function:\n",
    "It removes and returns the last element of the list.\n",
    "This is only function which manipulates list and returns some element.\n",
    "If the list is empty then pop() function raises IndexError\n",
    "Eg:\n",
    "'''\n",
    "n=[10,20,30,40] \n",
    "print(n.pop()) \n",
    "print(n.pop()) \n",
    "print(n) "
   ]
  },
  {
   "cell_type": "code",
   "execution_count": null,
   "metadata": {},
   "outputs": [],
   "source": []
  }
 ],
 "metadata": {
  "kernelspec": {
   "display_name": "Python 3",
   "language": "python",
   "name": "python3"
  },
  "language_info": {
   "codemirror_mode": {
    "name": "ipython",
    "version": 3
   },
   "file_extension": ".py",
   "mimetype": "text/x-python",
   "name": "python",
   "nbconvert_exporter": "python",
   "pygments_lexer": "ipython3",
   "version": "3.11.1"
  },
  "orig_nbformat": 4
 },
 "nbformat": 4,
 "nbformat_minor": 2
}
